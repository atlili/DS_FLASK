{
 "cells": [
  {
   "cell_type": "code",
   "execution_count": 1,
   "metadata": {
    "id": "9mjc3PapIRFu"
   },
   "outputs": [],
   "source": [
    "# Supressing the warning messages\n",
    "import warnings\n",
    "warnings.filterwarnings('ignore')"
   ]
  },
  {
   "cell_type": "code",
   "execution_count": 2,
   "metadata": {
    "id": "f7IRXVlRBfag"
   },
   "outputs": [],
   "source": [
    "# Import packages\n",
    "import pandas as pd\n",
    "import numpy as np\n",
    "from matplotlib import pyplot as plt\n",
    "import seaborn as sns"
   ]
  },
  {
   "cell_type": "code",
   "execution_count": 7,
   "metadata": {
    "colab": {
     "base_uri": "https://localhost:8080/"
    },
    "id": "cz3nqY4dhASe",
    "outputId": "8ebfab65-0e6e-4f5a-8dda-3777e44879be"
   },
   "outputs": [
    {
     "data": {
      "text/plain": [
       "(1311, 20)"
      ]
     },
     "execution_count": 7,
     "metadata": {},
     "output_type": "execute_result"
    }
   ],
   "source": [
    "df = pd.read_csv('Dataset.csv',sep=';')\n",
    "df.shape"
   ]
  },
  {
   "cell_type": "code",
   "execution_count": 8,
   "metadata": {
    "colab": {
     "base_uri": "https://localhost:8080/"
    },
    "id": "WOQgWNEiI7YA",
    "outputId": "13fe69b4-3714-40f3-cd08-a0aa2bb912d6"
   },
   "outputs": [
    {
     "name": "stdout",
     "output_type": "stream",
     "text": [
      "Shape After deleting duplicate values: (1311, 20)\n"
     ]
    }
   ],
   "source": [
    "# Removing duplicate rows if any\n",
    "df=df.drop_duplicates()\n",
    "print('Shape After deleting duplicate values:', df.shape)"
   ]
  },
  {
   "cell_type": "code",
   "execution_count": 9,
   "metadata": {
    "colab": {
     "base_uri": "https://localhost:8080/",
     "height": 204
    },
    "id": "INyIsDkSiKqQ",
    "outputId": "c9137b0b-cc41-4848-c1b7-2a646fe72e9f"
   },
   "outputs": [
    {
     "data": {
      "text/html": [
       "<div>\n",
       "<style scoped>\n",
       "    .dataframe tbody tr th:only-of-type {\n",
       "        vertical-align: middle;\n",
       "    }\n",
       "\n",
       "    .dataframe tbody tr th {\n",
       "        vertical-align: top;\n",
       "    }\n",
       "\n",
       "    .dataframe thead th {\n",
       "        text-align: right;\n",
       "    }\n",
       "</style>\n",
       "<table border=\"1\" class=\"dataframe\">\n",
       "  <thead>\n",
       "    <tr style=\"text-align: right;\">\n",
       "      <th></th>\n",
       "      <th>Target</th>\n",
       "      <th>X1</th>\n",
       "      <th>X2</th>\n",
       "      <th>X3</th>\n",
       "      <th>X4</th>\n",
       "      <th>X5</th>\n",
       "      <th>X6</th>\n",
       "      <th>X7</th>\n",
       "      <th>X8</th>\n",
       "      <th>X9</th>\n",
       "      <th>X10</th>\n",
       "      <th>X11</th>\n",
       "      <th>X12</th>\n",
       "      <th>X13</th>\n",
       "      <th>X14</th>\n",
       "      <th>X15</th>\n",
       "      <th>X16</th>\n",
       "      <th>X17</th>\n",
       "      <th>X18</th>\n",
       "      <th>X19</th>\n",
       "    </tr>\n",
       "  </thead>\n",
       "  <tbody>\n",
       "    <tr>\n",
       "      <th>0</th>\n",
       "      <td>1</td>\n",
       "      <td>B</td>\n",
       "      <td>46</td>\n",
       "      <td>A</td>\n",
       "      <td>26.0</td>\n",
       "      <td>A</td>\n",
       "      <td>2</td>\n",
       "      <td>1.0</td>\n",
       "      <td>0</td>\n",
       "      <td>3.0</td>\n",
       "      <td>A</td>\n",
       "      <td>900000</td>\n",
       "      <td>221</td>\n",
       "      <td>8161</td>\n",
       "      <td>1084000.0</td>\n",
       "      <td>13593</td>\n",
       "      <td>1054170</td>\n",
       "      <td>0.6003</td>\n",
       "      <td>77.5524</td>\n",
       "      <td>0.8303</td>\n",
       "    </tr>\n",
       "    <tr>\n",
       "      <th>1</th>\n",
       "      <td>1</td>\n",
       "      <td>B</td>\n",
       "      <td>33</td>\n",
       "      <td>B</td>\n",
       "      <td>156.0</td>\n",
       "      <td>A</td>\n",
       "      <td>11</td>\n",
       "      <td>2.0</td>\n",
       "      <td>3</td>\n",
       "      <td>3.0</td>\n",
       "      <td>C</td>\n",
       "      <td>900000</td>\n",
       "      <td>208</td>\n",
       "      <td>7675</td>\n",
       "      <td>926000.0</td>\n",
       "      <td>13590</td>\n",
       "      <td>1149917</td>\n",
       "      <td>0.5648</td>\n",
       "      <td>84.6149</td>\n",
       "      <td>0.9719</td>\n",
       "    </tr>\n",
       "    <tr>\n",
       "      <th>2</th>\n",
       "      <td>1</td>\n",
       "      <td>B</td>\n",
       "      <td>53</td>\n",
       "      <td>A</td>\n",
       "      <td>75.0</td>\n",
       "      <td>A</td>\n",
       "      <td>6</td>\n",
       "      <td>2.0</td>\n",
       "      <td>3</td>\n",
       "      <td>3.0</td>\n",
       "      <td>C</td>\n",
       "      <td>800000</td>\n",
       "      <td>166</td>\n",
       "      <td>8317</td>\n",
       "      <td>988000.0</td>\n",
       "      <td>11394</td>\n",
       "      <td>751271</td>\n",
       "      <td>0.7299</td>\n",
       "      <td>65.9357</td>\n",
       "      <td>0.8097</td>\n",
       "    </tr>\n",
       "    <tr>\n",
       "      <th>3</th>\n",
       "      <td>1</td>\n",
       "      <td>B</td>\n",
       "      <td>49</td>\n",
       "      <td>A</td>\n",
       "      <td>254.0</td>\n",
       "      <td>B</td>\n",
       "      <td>5</td>\n",
       "      <td>1.0</td>\n",
       "      <td>3</td>\n",
       "      <td>3.0</td>\n",
       "      <td>C</td>\n",
       "      <td>240000</td>\n",
       "      <td>165</td>\n",
       "      <td>2585</td>\n",
       "      <td>282000.0</td>\n",
       "      <td>10618</td>\n",
       "      <td>100850</td>\n",
       "      <td>0.2435</td>\n",
       "      <td>9.4980</td>\n",
       "      <td>0.8511</td>\n",
       "    </tr>\n",
       "    <tr>\n",
       "      <th>4</th>\n",
       "      <td>1</td>\n",
       "      <td>B</td>\n",
       "      <td>45</td>\n",
       "      <td>A</td>\n",
       "      <td>218.0</td>\n",
       "      <td>A</td>\n",
       "      <td>6</td>\n",
       "      <td>2.0</td>\n",
       "      <td>2</td>\n",
       "      <td>3.0</td>\n",
       "      <td>C</td>\n",
       "      <td>480000</td>\n",
       "      <td>122</td>\n",
       "      <td>5749</td>\n",
       "      <td>486000.0</td>\n",
       "      <td>8727</td>\n",
       "      <td>270985</td>\n",
       "      <td>0.6587</td>\n",
       "      <td>31.0513</td>\n",
       "      <td>0.9877</td>\n",
       "    </tr>\n",
       "  </tbody>\n",
       "</table>\n",
       "</div>"
      ],
      "text/plain": [
       "   Target X1  X2 X3     X4 X5  X6   X7  X8   X9 X10     X11  X12   X13  \\\n",
       "0       1  B  46  A   26.0  A   2  1.0   0  3.0   A  900000  221  8161   \n",
       "1       1  B  33  B  156.0  A  11  2.0   3  3.0   C  900000  208  7675   \n",
       "2       1  B  53  A   75.0  A   6  2.0   3  3.0   C  800000  166  8317   \n",
       "3       1  B  49  A  254.0  B   5  1.0   3  3.0   C  240000  165  2585   \n",
       "4       1  B  45  A  218.0  A   6  2.0   2  3.0   C  480000  122  5749   \n",
       "\n",
       "         X14    X15      X16     X17      X18     X19  \n",
       "0  1084000.0  13593  1054170  0.6003  77.5524  0.8303  \n",
       "1   926000.0  13590  1149917  0.5648  84.6149  0.9719  \n",
       "2   988000.0  11394   751271  0.7299  65.9357  0.8097  \n",
       "3   282000.0  10618   100850  0.2435   9.4980  0.8511  \n",
       "4   486000.0   8727   270985  0.6587  31.0513  0.9877  "
      ]
     },
     "execution_count": 9,
     "metadata": {},
     "output_type": "execute_result"
    }
   ],
   "source": [
    "df.head()"
   ]
  },
  {
   "cell_type": "markdown",
   "metadata": {
    "id": "GKcXunycJU4J"
   },
   "source": [
    "# Defining the problem statement:\n",
    "•\tLe calcul automatique de la probabilité d’affectation au groupe 1 (Target=1) déterminée selon 4 méthodes d’apprentissage différentes (choix libre) avec un affichage par ordre décroissant du résultat.\n",
    "\n",
    "## Determining the type of Machine Learning :\n",
    "Based on the problem statement you can understand that we need to create a supervised ML classification model, as the target variable is categorical.\n",
    "## Looking at the distribution of Target variable\n",
    "- If target variable's distribution is too skewed then the predictive modeling will not be possible.\n",
    "- Bell curve is desirable but slightly positive skew or negative skew is also fine\n",
    "- When performing Classification, make sure there is a balance in the the distribution of each class otherwise it impacts the Machine Learning algorithms ability to learn all the classes"
   ]
  },
  {
   "cell_type": "code",
   "execution_count": 10,
   "metadata": {
    "colab": {
     "base_uri": "https://localhost:8080/",
     "height": 238
    },
    "id": "wnKqa0ivKMSz",
    "outputId": "9e4e465c-7d89-4c2e-dfa7-235f98064dc3"
   },
   "outputs": [
    {
     "data": {
      "text/plain": [
       "<matplotlib.axes._subplots.AxesSubplot at 0x698aec99e8>"
      ]
     },
     "execution_count": 10,
     "metadata": {},
     "output_type": "execute_result"
    },
    {
     "data": {
      "image/png": "[encoded data removed]",
      "text/plain": [
       "<Figure size 288x216 with 1 Axes>"
      ]
     },
     "metadata": {
      "needs_background": "light"
     },
     "output_type": "display_data"
    }
   ],
   "source": [
    "%matplotlib inline\n",
    "# Creating Bar chart as the Target variable is Categorical\n",
    "GroupedData=df.groupby('Target').size()\n",
    "GroupedData.plot(kind='bar', figsize=(4,3))"
   ]
  },
  {
   "cell_type": "markdown",
   "metadata": {
    "id": "A-yLMyNhLmy7"
   },
   "source": [
    "The data distribution of the target variable is satisfactory to proceed further. There are sufficient number of rows for each category to learn from."
   ]
  },
  {
   "cell_type": "code",
   "execution_count": 11,
   "metadata": {
    "colab": {
     "base_uri": "https://localhost:8080/"
    },
    "id": "xfVyHpDgKtd3",
    "outputId": "d9a5207d-69f2-4fe9-aaec-f6cd0be395fb"
   },
   "outputs": [
    {
     "name": "stdout",
     "output_type": "stream",
     "text": [
      "<class 'pandas.core.frame.DataFrame'>\n",
      "Int64Index: 1311 entries, 0 to 1310\n",
      "Data columns (total 20 columns):\n",
      "Target    1311 non-null int64\n",
      "X1        1311 non-null object\n",
      "X2        1311 non-null int64\n",
      "X3        1311 non-null object\n",
      "X4        1301 non-null float64\n",
      "X5        1311 non-null object\n",
      "X6        1311 non-null int64\n",
      "X7        1295 non-null float64\n",
      "X8        1311 non-null int64\n",
      "X9        1295 non-null float64\n",
      "X10       1311 non-null object\n",
      "X11       1311 non-null int64\n",
      "X12       1311 non-null int64\n",
      "X13       1311 non-null int64\n",
      "X14       1311 non-null float64\n",
      "X15       1311 non-null int64\n",
      "X16       1311 non-null int64\n",
      "X17       1311 non-null float64\n",
      "X18       1311 non-null float64\n",
      "X19       1311 non-null float64\n",
      "dtypes: float64(7), int64(9), object(4)\n",
      "memory usage: 215.1+ KB\n",
      "None\n"
     ]
    }
   ],
   "source": [
    "#summary of dataset\n",
    "print(df.info())"
   ]
  },
  {
   "cell_type": "code",
   "execution_count": 12,
   "metadata": {
    "colab": {
     "base_uri": "https://localhost:8080/",
     "height": 410
    },
    "id": "1fU2BjhDhAhf",
    "outputId": "380ec9dd-b6f0-4419-e6d5-685d7a4c597c"
   },
   "outputs": [
    {
     "data": {
      "text/html": [
       "<div>\n",
       "<style scoped>\n",
       "    .dataframe tbody tr th:only-of-type {\n",
       "        vertical-align: middle;\n",
       "    }\n",
       "\n",
       "    .dataframe tbody tr th {\n",
       "        vertical-align: top;\n",
       "    }\n",
       "\n",
       "    .dataframe thead th {\n",
       "        text-align: right;\n",
       "    }\n",
       "</style>\n",
       "<table border=\"1\" class=\"dataframe\">\n",
       "  <thead>\n",
       "    <tr style=\"text-align: right;\">\n",
       "      <th></th>\n",
       "      <th>Target</th>\n",
       "      <th>X1</th>\n",
       "      <th>X2</th>\n",
       "      <th>X3</th>\n",
       "      <th>X4</th>\n",
       "      <th>X5</th>\n",
       "      <th>X6</th>\n",
       "      <th>X7</th>\n",
       "      <th>X8</th>\n",
       "      <th>X9</th>\n",
       "      <th>X10</th>\n",
       "      <th>X11</th>\n",
       "      <th>X12</th>\n",
       "      <th>X13</th>\n",
       "      <th>X14</th>\n",
       "      <th>X15</th>\n",
       "      <th>X16</th>\n",
       "      <th>X17</th>\n",
       "      <th>X18</th>\n",
       "      <th>X19</th>\n",
       "    </tr>\n",
       "  </thead>\n",
       "  <tbody>\n",
       "    <tr>\n",
       "      <th>count</th>\n",
       "      <td>1311.000000</td>\n",
       "      <td>1311</td>\n",
       "      <td>1311.000000</td>\n",
       "      <td>1311</td>\n",
       "      <td>1301.000000</td>\n",
       "      <td>1311</td>\n",
       "      <td>1311.000000</td>\n",
       "      <td>1295.000000</td>\n",
       "      <td>1311.000000</td>\n",
       "      <td>1295.000000</td>\n",
       "      <td>1311</td>\n",
       "      <td>1311.000000</td>\n",
       "      <td>1311.000000</td>\n",
       "      <td>1311.000000</td>\n",
       "      <td>1.311000e+03</td>\n",
       "      <td>1311.000000</td>\n",
       "      <td>1.311000e+03</td>\n",
       "      <td>1311.000000</td>\n",
       "      <td>1311.000000</td>\n",
       "      <td>1311.000000</td>\n",
       "    </tr>\n",
       "    <tr>\n",
       "      <th>unique</th>\n",
       "      <td>NaN</td>\n",
       "      <td>2</td>\n",
       "      <td>NaN</td>\n",
       "      <td>3</td>\n",
       "      <td>NaN</td>\n",
       "      <td>2</td>\n",
       "      <td>NaN</td>\n",
       "      <td>NaN</td>\n",
       "      <td>NaN</td>\n",
       "      <td>NaN</td>\n",
       "      <td>4</td>\n",
       "      <td>NaN</td>\n",
       "      <td>NaN</td>\n",
       "      <td>NaN</td>\n",
       "      <td>NaN</td>\n",
       "      <td>NaN</td>\n",
       "      <td>NaN</td>\n",
       "      <td>NaN</td>\n",
       "      <td>NaN</td>\n",
       "      <td>NaN</td>\n",
       "    </tr>\n",
       "    <tr>\n",
       "      <th>top</th>\n",
       "      <td>NaN</td>\n",
       "      <td>B</td>\n",
       "      <td>NaN</td>\n",
       "      <td>A</td>\n",
       "      <td>NaN</td>\n",
       "      <td>A</td>\n",
       "      <td>NaN</td>\n",
       "      <td>NaN</td>\n",
       "      <td>NaN</td>\n",
       "      <td>NaN</td>\n",
       "      <td>C</td>\n",
       "      <td>NaN</td>\n",
       "      <td>NaN</td>\n",
       "      <td>NaN</td>\n",
       "      <td>NaN</td>\n",
       "      <td>NaN</td>\n",
       "      <td>NaN</td>\n",
       "      <td>NaN</td>\n",
       "      <td>NaN</td>\n",
       "      <td>NaN</td>\n",
       "    </tr>\n",
       "    <tr>\n",
       "      <th>freq</th>\n",
       "      <td>NaN</td>\n",
       "      <td>939</td>\n",
       "      <td>NaN</td>\n",
       "      <td>687</td>\n",
       "      <td>NaN</td>\n",
       "      <td>927</td>\n",
       "      <td>NaN</td>\n",
       "      <td>NaN</td>\n",
       "      <td>NaN</td>\n",
       "      <td>NaN</td>\n",
       "      <td>1169</td>\n",
       "      <td>NaN</td>\n",
       "      <td>NaN</td>\n",
       "      <td>NaN</td>\n",
       "      <td>NaN</td>\n",
       "      <td>NaN</td>\n",
       "      <td>NaN</td>\n",
       "      <td>NaN</td>\n",
       "      <td>NaN</td>\n",
       "      <td>NaN</td>\n",
       "    </tr>\n",
       "    <tr>\n",
       "      <th>mean</th>\n",
       "      <td>0.237223</td>\n",
       "      <td>NaN</td>\n",
       "      <td>43.799390</td>\n",
       "      <td>NaN</td>\n",
       "      <td>124.961568</td>\n",
       "      <td>NaN</td>\n",
       "      <td>9.075515</td>\n",
       "      <td>1.135135</td>\n",
       "      <td>1.926773</td>\n",
       "      <td>3.566023</td>\n",
       "      <td>NaN</td>\n",
       "      <td>90565.524027</td>\n",
       "      <td>180.424867</td>\n",
       "      <td>892.991609</td>\n",
       "      <td>1.333275e+05</td>\n",
       "      <td>3130.174676</td>\n",
       "      <td>8.027796e+04</td>\n",
       "      <td>0.294270</td>\n",
       "      <td>26.822755</td>\n",
       "      <td>0.703084</td>\n",
       "    </tr>\n",
       "    <tr>\n",
       "      <th>std</th>\n",
       "      <td>0.425543</td>\n",
       "      <td>NaN</td>\n",
       "      <td>8.229635</td>\n",
       "      <td>NaN</td>\n",
       "      <td>77.678321</td>\n",
       "      <td>NaN</td>\n",
       "      <td>3.542277</td>\n",
       "      <td>0.342000</td>\n",
       "      <td>1.169906</td>\n",
       "      <td>0.585836</td>\n",
       "      <td>NaN</td>\n",
       "      <td>93639.333230</td>\n",
       "      <td>35.375525</td>\n",
       "      <td>930.175075</td>\n",
       "      <td>1.313124e+05</td>\n",
       "      <td>2679.944973</td>\n",
       "      <td>9.182600e+04</td>\n",
       "      <td>0.109059</td>\n",
       "      <td>13.672382</td>\n",
       "      <td>0.172497</td>\n",
       "    </tr>\n",
       "    <tr>\n",
       "      <th>min</th>\n",
       "      <td>0.000000</td>\n",
       "      <td>NaN</td>\n",
       "      <td>5.000000</td>\n",
       "      <td>NaN</td>\n",
       "      <td>3.000000</td>\n",
       "      <td>NaN</td>\n",
       "      <td>1.000000</td>\n",
       "      <td>1.000000</td>\n",
       "      <td>0.000000</td>\n",
       "      <td>1.000000</td>\n",
       "      <td>NaN</td>\n",
       "      <td>7000.000000</td>\n",
       "      <td>120.000000</td>\n",
       "      <td>68.000000</td>\n",
       "      <td>8.000000e+03</td>\n",
       "      <td>701.000000</td>\n",
       "      <td>5.391000e+03</td>\n",
       "      <td>0.075800</td>\n",
       "      <td>4.772600</td>\n",
       "      <td>0.312500</td>\n",
       "    </tr>\n",
       "    <tr>\n",
       "      <th>25%</th>\n",
       "      <td>0.000000</td>\n",
       "      <td>NaN</td>\n",
       "      <td>38.000000</td>\n",
       "      <td>NaN</td>\n",
       "      <td>66.000000</td>\n",
       "      <td>NaN</td>\n",
       "      <td>6.000000</td>\n",
       "      <td>1.000000</td>\n",
       "      <td>1.000000</td>\n",
       "      <td>3.000000</td>\n",
       "      <td>NaN</td>\n",
       "      <td>40000.000000</td>\n",
       "      <td>148.000000</td>\n",
       "      <td>395.500000</td>\n",
       "      <td>5.964157e+04</td>\n",
       "      <td>1320.000000</td>\n",
       "      <td>3.296200e+04</td>\n",
       "      <td>0.215800</td>\n",
       "      <td>16.758600</td>\n",
       "      <td>0.555200</td>\n",
       "    </tr>\n",
       "    <tr>\n",
       "      <th>50%</th>\n",
       "      <td>0.000000</td>\n",
       "      <td>NaN</td>\n",
       "      <td>43.000000</td>\n",
       "      <td>NaN</td>\n",
       "      <td>108.000000</td>\n",
       "      <td>NaN</td>\n",
       "      <td>11.000000</td>\n",
       "      <td>1.000000</td>\n",
       "      <td>2.000000</td>\n",
       "      <td>4.000000</td>\n",
       "      <td>NaN</td>\n",
       "      <td>60000.000000</td>\n",
       "      <td>183.000000</td>\n",
       "      <td>596.000000</td>\n",
       "      <td>9.470075e+04</td>\n",
       "      <td>2254.000000</td>\n",
       "      <td>5.376000e+04</td>\n",
       "      <td>0.285100</td>\n",
       "      <td>24.236500</td>\n",
       "      <td>0.724000</td>\n",
       "    </tr>\n",
       "    <tr>\n",
       "      <th>75%</th>\n",
       "      <td>0.000000</td>\n",
       "      <td>NaN</td>\n",
       "      <td>49.000000</td>\n",
       "      <td>NaN</td>\n",
       "      <td>171.000000</td>\n",
       "      <td>NaN</td>\n",
       "      <td>12.000000</td>\n",
       "      <td>1.000000</td>\n",
       "      <td>3.000000</td>\n",
       "      <td>4.000000</td>\n",
       "      <td>NaN</td>\n",
       "      <td>100000.000000</td>\n",
       "      <td>211.000000</td>\n",
       "      <td>1059.000000</td>\n",
       "      <td>1.563479e+05</td>\n",
       "      <td>4090.000000</td>\n",
       "      <td>9.367800e+04</td>\n",
       "      <td>0.364200</td>\n",
       "      <td>34.358300</td>\n",
       "      <td>0.844650</td>\n",
       "    </tr>\n",
       "    <tr>\n",
       "      <th>max</th>\n",
       "      <td>1.000000</td>\n",
       "      <td>NaN</td>\n",
       "      <td>72.000000</td>\n",
       "      <td>NaN</td>\n",
       "      <td>350.000000</td>\n",
       "      <td>NaN</td>\n",
       "      <td>12.000000</td>\n",
       "      <td>2.000000</td>\n",
       "      <td>5.000000</td>\n",
       "      <td>4.000000</td>\n",
       "      <td>NaN</td>\n",
       "      <td>900000.000000</td>\n",
       "      <td>240.000000</td>\n",
       "      <td>9426.000000</td>\n",
       "      <td>1.113434e+06</td>\n",
       "      <td>32313.000000</td>\n",
       "      <td>1.149917e+06</td>\n",
       "      <td>0.896300</td>\n",
       "      <td>84.614900</td>\n",
       "      <td>1.000000</td>\n",
       "    </tr>\n",
       "  </tbody>\n",
       "</table>\n",
       "</div>"
      ],
      "text/plain": [
       "             Target    X1           X2    X3           X4    X5           X6  \\\n",
       "count   1311.000000  1311  1311.000000  1311  1301.000000  1311  1311.000000   \n",
       "unique          NaN     2          NaN     3          NaN     2          NaN   \n",
       "top             NaN     B          NaN     A          NaN     A          NaN   \n",
       "freq            NaN   939          NaN   687          NaN   927          NaN   \n",
       "mean       0.237223   NaN    43.799390   NaN   124.961568   NaN     9.075515   \n",
       "std        0.425543   NaN     8.229635   NaN    77.678321   NaN     3.542277   \n",
       "min        0.000000   NaN     5.000000   NaN     3.000000   NaN     1.000000   \n",
       "25%        0.000000   NaN    38.000000   NaN    66.000000   NaN     6.000000   \n",
       "50%        0.000000   NaN    43.000000   NaN   108.000000   NaN    11.000000   \n",
       "75%        0.000000   NaN    49.000000   NaN   171.000000   NaN    12.000000   \n",
       "max        1.000000   NaN    72.000000   NaN   350.000000   NaN    12.000000   \n",
       "\n",
       "                 X7           X8           X9   X10            X11  \\\n",
       "count   1295.000000  1311.000000  1295.000000  1311    1311.000000   \n",
       "unique          NaN          NaN          NaN     4            NaN   \n",
       "top             NaN          NaN          NaN     C            NaN   \n",
       "freq            NaN          NaN          NaN  1169            NaN   \n",
       "mean       1.135135     1.926773     3.566023   NaN   90565.524027   \n",
       "std        0.342000     1.169906     0.585836   NaN   93639.333230   \n",
       "min        1.000000     0.000000     1.000000   NaN    7000.000000   \n",
       "25%        1.000000     1.000000     3.000000   NaN   40000.000000   \n",
       "50%        1.000000     2.000000     4.000000   NaN   60000.000000   \n",
       "75%        1.000000     3.000000     4.000000   NaN  100000.000000   \n",
       "max        2.000000     5.000000     4.000000   NaN  900000.000000   \n",
       "\n",
       "                X12          X13           X14           X15           X16  \\\n",
       "count   1311.000000  1311.000000  1.311000e+03   1311.000000  1.311000e+03   \n",
       "unique          NaN          NaN           NaN           NaN           NaN   \n",
       "top             NaN          NaN           NaN           NaN           NaN   \n",
       "freq            NaN          NaN           NaN           NaN           NaN   \n",
       "mean     180.424867   892.991609  1.333275e+05   3130.174676  8.027796e+04   \n",
       "std       35.375525   930.175075  1.313124e+05   2679.944973  9.182600e+04   \n",
       "min      120.000000    68.000000  8.000000e+03    701.000000  5.391000e+03   \n",
       "25%      148.000000   395.500000  5.964157e+04   1320.000000  3.296200e+04   \n",
       "50%      183.000000   596.000000  9.470075e+04   2254.000000  5.376000e+04   \n",
       "75%      211.000000  1059.000000  1.563479e+05   4090.000000  9.367800e+04   \n",
       "max      240.000000  9426.000000  1.113434e+06  32313.000000  1.149917e+06   \n",
       "\n",
       "                X17          X18          X19  \n",
       "count   1311.000000  1311.000000  1311.000000  \n",
       "unique          NaN          NaN          NaN  \n",
       "top             NaN          NaN          NaN  \n",
       "freq            NaN          NaN          NaN  \n",
       "mean       0.294270    26.822755     0.703084  \n",
       "std        0.109059    13.672382     0.172497  \n",
       "min        0.075800     4.772600     0.312500  \n",
       "25%        0.215800    16.758600     0.555200  \n",
       "50%        0.285100    24.236500     0.724000  \n",
       "75%        0.364200    34.358300     0.844650  \n",
       "max        0.896300    84.614900     1.000000  "
      ]
     },
     "execution_count": 12,
     "metadata": {},
     "output_type": "execute_result"
    }
   ],
   "source": [
    "# Looking at the descriptive statistics of the data\n",
    "df.describe(include='all')"
   ]
  },
  {
   "cell_type": "code",
   "execution_count": null,
   "metadata": {
    "id": "vMKZs6jPhAta"
   },
   "outputs": [],
   "source": []
  },
  {
   "cell_type": "code",
   "execution_count": 13,
   "metadata": {
    "colab": {
     "base_uri": "https://localhost:8080/",
     "height": 204
    },
    "id": "tMDLYb0nwhRX",
    "outputId": "2ad40ae5-bcbd-44d0-cff7-23751a325c2a"
   },
   "outputs": [
    {
     "data": {
      "text/html": [
       "<div>\n",
       "<style scoped>\n",
       "    .dataframe tbody tr th:only-of-type {\n",
       "        vertical-align: middle;\n",
       "    }\n",
       "\n",
       "    .dataframe tbody tr th {\n",
       "        vertical-align: top;\n",
       "    }\n",
       "\n",
       "    .dataframe thead th {\n",
       "        text-align: right;\n",
       "    }\n",
       "</style>\n",
       "<table border=\"1\" class=\"dataframe\">\n",
       "  <thead>\n",
       "    <tr style=\"text-align: right;\">\n",
       "      <th></th>\n",
       "      <th>Target</th>\n",
       "      <th>X1</th>\n",
       "      <th>X2</th>\n",
       "      <th>X3</th>\n",
       "      <th>X4</th>\n",
       "      <th>X5</th>\n",
       "      <th>X6</th>\n",
       "      <th>X7</th>\n",
       "      <th>X8</th>\n",
       "      <th>X9</th>\n",
       "      <th>X10</th>\n",
       "      <th>X11</th>\n",
       "      <th>X12</th>\n",
       "      <th>X13</th>\n",
       "      <th>X14</th>\n",
       "      <th>X15</th>\n",
       "      <th>X16</th>\n",
       "      <th>X17</th>\n",
       "      <th>X18</th>\n",
       "      <th>X19</th>\n",
       "    </tr>\n",
       "  </thead>\n",
       "  <tbody>\n",
       "    <tr>\n",
       "      <th>0</th>\n",
       "      <td>1</td>\n",
       "      <td>B</td>\n",
       "      <td>46</td>\n",
       "      <td>A</td>\n",
       "      <td>26.0</td>\n",
       "      <td>A</td>\n",
       "      <td>2</td>\n",
       "      <td>1.0</td>\n",
       "      <td>0</td>\n",
       "      <td>3.0</td>\n",
       "      <td>A</td>\n",
       "      <td>900000</td>\n",
       "      <td>221</td>\n",
       "      <td>8161</td>\n",
       "      <td>1084000.0</td>\n",
       "      <td>13593</td>\n",
       "      <td>1054170</td>\n",
       "      <td>0.6003</td>\n",
       "      <td>77.5524</td>\n",
       "      <td>0.8303</td>\n",
       "    </tr>\n",
       "    <tr>\n",
       "      <th>1</th>\n",
       "      <td>1</td>\n",
       "      <td>B</td>\n",
       "      <td>33</td>\n",
       "      <td>B</td>\n",
       "      <td>156.0</td>\n",
       "      <td>A</td>\n",
       "      <td>11</td>\n",
       "      <td>2.0</td>\n",
       "      <td>3</td>\n",
       "      <td>3.0</td>\n",
       "      <td>C</td>\n",
       "      <td>900000</td>\n",
       "      <td>208</td>\n",
       "      <td>7675</td>\n",
       "      <td>926000.0</td>\n",
       "      <td>13590</td>\n",
       "      <td>1149917</td>\n",
       "      <td>0.5648</td>\n",
       "      <td>84.6149</td>\n",
       "      <td>0.9719</td>\n",
       "    </tr>\n",
       "    <tr>\n",
       "      <th>2</th>\n",
       "      <td>1</td>\n",
       "      <td>B</td>\n",
       "      <td>53</td>\n",
       "      <td>A</td>\n",
       "      <td>75.0</td>\n",
       "      <td>A</td>\n",
       "      <td>6</td>\n",
       "      <td>2.0</td>\n",
       "      <td>3</td>\n",
       "      <td>3.0</td>\n",
       "      <td>C</td>\n",
       "      <td>800000</td>\n",
       "      <td>166</td>\n",
       "      <td>8317</td>\n",
       "      <td>988000.0</td>\n",
       "      <td>11394</td>\n",
       "      <td>751271</td>\n",
       "      <td>0.7299</td>\n",
       "      <td>65.9357</td>\n",
       "      <td>0.8097</td>\n",
       "    </tr>\n",
       "    <tr>\n",
       "      <th>3</th>\n",
       "      <td>1</td>\n",
       "      <td>B</td>\n",
       "      <td>49</td>\n",
       "      <td>A</td>\n",
       "      <td>254.0</td>\n",
       "      <td>B</td>\n",
       "      <td>5</td>\n",
       "      <td>1.0</td>\n",
       "      <td>3</td>\n",
       "      <td>3.0</td>\n",
       "      <td>C</td>\n",
       "      <td>240000</td>\n",
       "      <td>165</td>\n",
       "      <td>2585</td>\n",
       "      <td>282000.0</td>\n",
       "      <td>10618</td>\n",
       "      <td>100850</td>\n",
       "      <td>0.2435</td>\n",
       "      <td>9.4980</td>\n",
       "      <td>0.8511</td>\n",
       "    </tr>\n",
       "    <tr>\n",
       "      <th>4</th>\n",
       "      <td>1</td>\n",
       "      <td>B</td>\n",
       "      <td>45</td>\n",
       "      <td>A</td>\n",
       "      <td>218.0</td>\n",
       "      <td>A</td>\n",
       "      <td>6</td>\n",
       "      <td>2.0</td>\n",
       "      <td>2</td>\n",
       "      <td>3.0</td>\n",
       "      <td>C</td>\n",
       "      <td>480000</td>\n",
       "      <td>122</td>\n",
       "      <td>5749</td>\n",
       "      <td>486000.0</td>\n",
       "      <td>8727</td>\n",
       "      <td>270985</td>\n",
       "      <td>0.6587</td>\n",
       "      <td>31.0513</td>\n",
       "      <td>0.9877</td>\n",
       "    </tr>\n",
       "  </tbody>\n",
       "</table>\n",
       "</div>"
      ],
      "text/plain": [
       "   Target X1  X2 X3     X4 X5  X6   X7  X8   X9 X10     X11  X12   X13  \\\n",
       "0       1  B  46  A   26.0  A   2  1.0   0  3.0   A  900000  221  8161   \n",
       "1       1  B  33  B  156.0  A  11  2.0   3  3.0   C  900000  208  7675   \n",
       "2       1  B  53  A   75.0  A   6  2.0   3  3.0   C  800000  166  8317   \n",
       "3       1  B  49  A  254.0  B   5  1.0   3  3.0   C  240000  165  2585   \n",
       "4       1  B  45  A  218.0  A   6  2.0   2  3.0   C  480000  122  5749   \n",
       "\n",
       "         X14    X15      X16     X17      X18     X19  \n",
       "0  1084000.0  13593  1054170  0.6003  77.5524  0.8303  \n",
       "1   926000.0  13590  1149917  0.5648  84.6149  0.9719  \n",
       "2   988000.0  11394   751271  0.7299  65.9357  0.8097  \n",
       "3   282000.0  10618   100850  0.2435   9.4980  0.8511  \n",
       "4   486000.0   8727   270985  0.6587  31.0513  0.9877  "
      ]
     },
     "execution_count": 13,
     "metadata": {},
     "output_type": "execute_result"
    }
   ],
   "source": [
    "df.head()"
   ]
  },
  {
   "cell_type": "code",
   "execution_count": 14,
   "metadata": {
    "colab": {
     "base_uri": "https://localhost:8080/"
    },
    "id": "iMmLi27owhV7",
    "outputId": "14bbae9b-9bcf-42b4-92ed-cbde88fd9c3e"
   },
   "outputs": [
    {
     "data": {
      "text/plain": [
       "Target       2\n",
       "X1           2\n",
       "X2          53\n",
       "X3           3\n",
       "X4         301\n",
       "X5           2\n",
       "X6          12\n",
       "X7           2\n",
       "X8           6\n",
       "X9           4\n",
       "X10          4\n",
       "X11        144\n",
       "X12        121\n",
       "X13        889\n",
       "X14       1177\n",
       "X15       1143\n",
       "X16       1304\n",
       "X17       1117\n",
       "X18       1308\n",
       "X19       1046\n",
       "dtype: int64"
      ]
     },
     "execution_count": 14,
     "metadata": {},
     "output_type": "execute_result"
    }
   ],
   "source": [
    "df.nunique()"
   ]
  },
  {
   "cell_type": "markdown",
   "metadata": {
    "id": "EMDnft1Fxir4"
   },
   "source": [
    "->Typically if the numer of unique values are < 20 then the variable is likely to be a category otherwise continuous"
   ]
  },
  {
   "cell_type": "markdown",
   "metadata": {
    "id": "SivISjnugLKk"
   },
   "source": [
    "# Visual Exploratory Data Analysis\n",
    "- Categorical variables: Bar plot\n",
    "- Continuous variables: Histogram"
   ]
  },
  {
   "cell_type": "code",
   "execution_count": 15,
   "metadata": {
    "id": "Xr4BLIh5whax"
   },
   "outputs": [],
   "source": [
    "# Plotting multiple bar charts at once for categorical variables\n",
    "\n",
    "\n",
    "def PlotBarCharts(inpData, colsToPlot):\n",
    "    %matplotlib inline\n",
    "    \n",
    "    import matplotlib.pyplot as plt\n",
    "    \n",
    "    # Generating multiple subplots\n",
    "    fig, subPlot=plt.subplots(nrows=1, ncols=len(colsToPlot), figsize=(20,4))\n",
    "    fig.suptitle('Bar charts of: '+ str(colsToPlot))\n",
    "\n",
    "    for colName, plotNumber in zip(colsToPlot, range(len(colsToPlot))):\n",
    "        inpData.groupby(colName).size().plot(kind='bar',ax=subPlot[plotNumber])"
   ]
  },
  {
   "cell_type": "code",
   "execution_count": 16,
   "metadata": {
    "colab": {
     "base_uri": "https://localhost:8080/",
     "height": 306
    },
    "id": "bw-pEwsmIPUX",
    "outputId": "2761dfb5-31fa-4332-c4f5-a491deae2057"
   },
   "outputs": [
    {
     "data": {
      "image/png": "[encoded data removed]",
      "text/plain": [
       "<Figure size 1440x288 with 4 Axes>"
      ]
     },
     "metadata": {
      "needs_background": "light"
     },
     "output_type": "display_data"
    }
   ],
   "source": [
    "# Calling the function \n",
    "PlotBarCharts(inpData=df, \n",
    "              colsToPlot=['X1', 'X3', 'X5','X10'])"
   ]
  },
  {
   "cell_type": "code",
   "execution_count": 17,
   "metadata": {
    "colab": {
     "base_uri": "https://localhost:8080/",
     "height": 314
    },
    "id": "gROe6Kpfwxnz",
    "outputId": "4a7bafd9-0529-47a6-d2b1-e0c9dc4cbc2d"
   },
   "outputs": [
    {
     "data": {
      "image/png": "[encoded data removed]",
      "text/plain": [
       "<Figure size 1440x288 with 4 Axes>"
      ]
     },
     "metadata": {
      "needs_background": "light"
     },
     "output_type": "display_data"
    }
   ],
   "source": [
    "\n",
    "# Calling the function \n",
    "PlotBarCharts(inpData=df, \n",
    "              colsToPlot=['X6', 'X7', 'X8','X9'])"
   ]
  },
  {
   "cell_type": "markdown",
   "metadata": {
    "id": "LtYwZ0SQvYTA"
   },
   "source": [
    "All the categorical variables are selected with a doubt on \"X10\" and \"X7\" because there is only one dominant bar and the other categories are present in very low numbers. These kind of columns may not be very helpful in machine learning. We confirm this in the correlation analysis section and take a final call to select or reject the column."
   ]
  },
  {
   "cell_type": "code",
   "execution_count": 18,
   "metadata": {
    "colab": {
     "base_uri": "https://localhost:8080/"
    },
    "id": "vNwRzeiNkuyn",
    "outputId": "a8314556-37bf-421d-e4b1-70632d5912e5"
   },
   "outputs": [
    {
     "data": {
      "text/plain": [
       "Index(['Target', 'X2', 'X4', 'X6', 'X7', 'X8', 'X9', 'X11', 'X12', 'X13',\n",
       "       'X14', 'X15', 'X16', 'X17', 'X18', 'X19'],\n",
       "      dtype='object')"
      ]
     },
     "execution_count": 18,
     "metadata": {},
     "output_type": "execute_result"
    }
   ],
   "source": [
    "numerical = df.select_dtypes(include=['int64','float64'])\n",
    "numerical.columns"
   ]
  },
  {
   "cell_type": "code",
   "execution_count": 19,
   "metadata": {
    "colab": {
     "base_uri": "https://localhost:8080/",
     "height": 720
    },
    "id": "CPYP-ggFku7Y",
    "outputId": "76b64ed2-55b1-4625-9ba6-2cf454ad21cf"
   },
   "outputs": [
    {
     "data": {
      "text/plain": [
       "array([[<matplotlib.axes._subplots.AxesSubplot object at 0x000000698AA06E80>,\n",
       "        <matplotlib.axes._subplots.AxesSubplot object at 0x000000698AD520F0>,\n",
       "        <matplotlib.axes._subplots.AxesSubplot object at 0x000000698AF426A0>],\n",
       "       [<matplotlib.axes._subplots.AxesSubplot object at 0x000000698AF70C50>,\n",
       "        <matplotlib.axes._subplots.AxesSubplot object at 0x000000698AFB0240>,\n",
       "        <matplotlib.axes._subplots.AxesSubplot object at 0x000000698AFDF7B8>],\n",
       "       [<matplotlib.axes._subplots.AxesSubplot object at 0x000000698B012D68>,\n",
       "        <matplotlib.axes._subplots.AxesSubplot object at 0x000000698B04F390>,\n",
       "        <matplotlib.axes._subplots.AxesSubplot object at 0x000000698B04F3C8>],\n",
       "       [<matplotlib.axes._subplots.AxesSubplot object at 0x000000698B0B3EB8>,\n",
       "        <matplotlib.axes._subplots.AxesSubplot object at 0x000000698B0F04A8>,\n",
       "        <matplotlib.axes._subplots.AxesSubplot object at 0x000000698B11FA58>]],\n",
       "      dtype=object)"
      ]
     },
     "execution_count": 19,
     "metadata": {},
     "output_type": "execute_result"
    },
    {
     "data": {
      "image/png": "[encoded data removed]",
      "text/plain": [
       "<Figure size 864x576 with 12 Axes>"
      ]
     },
     "metadata": {
      "needs_background": "light"
     },
     "output_type": "display_data"
    }
   ],
   "source": [
    "df.hist(['X2', 'X4', 'X11', 'X12', 'X13','X14', 'X15', 'X16', 'X17', 'X18', 'X19'], figsize=(12,8))"
   ]
  },
  {
   "cell_type": "markdown",
   "metadata": {
    "id": "-MfURbCh4MbF"
   },
   "source": [
    "# Missing values treatment"
   ]
  },
  {
   "cell_type": "markdown",
   "metadata": {
    "id": "DJJIKBWU4Yc5"
   },
   "source": [
    "There are below options for treating missing values in data.\n",
    "\n",
    "Delete the missing value rows if there are only few records\n",
    "Impute the missing values with MEDIAN value for continuous variables"
   ]
  },
  {
   "cell_type": "code",
   "execution_count": 20,
   "metadata": {
    "colab": {
     "base_uri": "https://localhost:8080/",
     "height": 142
    },
    "id": "hNavVsIv39TC",
    "outputId": "de75a5c9-2731-445a-bdd9-5d2308c008dc"
   },
   "outputs": [
    {
     "data": {
      "text/html": [
       "<div>\n",
       "<style scoped>\n",
       "    .dataframe tbody tr th:only-of-type {\n",
       "        vertical-align: middle;\n",
       "    }\n",
       "\n",
       "    .dataframe tbody tr th {\n",
       "        vertical-align: top;\n",
       "    }\n",
       "\n",
       "    .dataframe thead th {\n",
       "        text-align: right;\n",
       "    }\n",
       "</style>\n",
       "<table border=\"1\" class=\"dataframe\">\n",
       "  <thead>\n",
       "    <tr style=\"text-align: right;\">\n",
       "      <th></th>\n",
       "      <th>Total</th>\n",
       "      <th>Percentage</th>\n",
       "    </tr>\n",
       "  </thead>\n",
       "  <tbody>\n",
       "    <tr>\n",
       "      <th>X9</th>\n",
       "      <td>16</td>\n",
       "      <td>1.220442</td>\n",
       "    </tr>\n",
       "    <tr>\n",
       "      <th>X7</th>\n",
       "      <td>16</td>\n",
       "      <td>1.220442</td>\n",
       "    </tr>\n",
       "    <tr>\n",
       "      <th>X4</th>\n",
       "      <td>10</td>\n",
       "      <td>0.762777</td>\n",
       "    </tr>\n",
       "  </tbody>\n",
       "</table>\n",
       "</div>"
      ],
      "text/plain": [
       "    Total  Percentage\n",
       "X9     16    1.220442\n",
       "X7     16    1.220442\n",
       "X4     10    0.762777"
      ]
     },
     "execution_count": 20,
     "metadata": {},
     "output_type": "execute_result"
    }
   ],
   "source": [
    "#Checking percentage of null values present in dataset \n",
    "missing_num= df[df.columns].isna().sum().sort_values(ascending=False)\n",
    "missing_perc= (df[df.columns].isna().sum()/len(df)*100).sort_values(ascending=False)\n",
    "missing= pd.concat([missing_num,missing_perc],keys=['Total','Percentage'],axis=1)\n",
    "missing_df= missing[missing['Percentage']>0]\n",
    "missing_df"
   ]
  },
  {
   "cell_type": "code",
   "execution_count": 21,
   "metadata": {
    "id": "hNWRijJR39Yh"
   },
   "outputs": [],
   "source": [
    "df['X9'] = df['X9'].fillna(df['X9'].dropna().mean())\n",
    "df['X7'] = df['X7'].fillna(df['X7'].dropna().mean())\n",
    "df['X4'] = df['X4'].fillna(df['X4'].dropna().mean())"
   ]
  },
  {
   "cell_type": "markdown",
   "metadata": {
    "id": "WUSOnwNg7Ek0"
   },
   "source": [
    "# Feature Selection"
   ]
  },
  {
   "cell_type": "markdown",
   "metadata": {
    "id": "1WNr5Lf37YBh"
   },
   "source": [
    "Now its time to finally choose the best columns(Features) which are correlated to the Target variable. This can be done directly by measuring the correlation values or ANOVA/Chi-Square tests. However, it is always helpful to visualize the relation between the Target variable and each of the predictors to get a better sense of data.\n",
    "In this case study the Target variable is categorical, hence below two scenarios will be present:\n",
    "\n",
    "- Categorical Target Variable Vs Continuous Predictor\n",
    "- Categorical Target Variable Vs Categorical Predictor\n",
    "\n",
    "## Visual exploration of relationship between variables\n",
    "- Categorical Vs Continuous---- Box Plot\n",
    "- Categorical Vs Categorical---- Grouped Bar Plots\n",
    "\n",
    "## Statistical measurement of relationship strength between variables\n",
    "- Categorical Vs Continuous---- ANOVA test\n",
    "- Categorical Vs Categorical--- Chi-Square test"
   ]
  },
  {
   "cell_type": "markdown",
   "metadata": {
    "id": "3DIyjZAX8--A"
   },
   "source": [
    "### Relationship exploration: Categorical Vs Continuous -- Box Plots\n",
    "When the target variable is Categorical and the predictor variable is Continuous we analyze the relation using bar plots/Boxplots and measure the strength of relation using Anova test"
   ]
  },
  {
   "cell_type": "code",
   "execution_count": 22,
   "metadata": {
    "colab": {
     "base_uri": "https://localhost:8080/",
     "height": 361
    },
    "id": "jFtfbJzb8Ofw",
    "outputId": "07ae78d1-6ff5-42c8-8680-e5ff20167f46"
   },
   "outputs": [
    {
     "data": {
      "image/png": "[encoded data removed]",
      "text/plain": [
       "<Figure size 1296x360 with 11 Axes>"
      ]
     },
     "metadata": {
      "needs_background": "light"
     },
     "output_type": "display_data"
    }
   ],
   "source": [
    "# Box plots for Categorical Target Variable and continuous predictors\n",
    "ContinuousColsList=['X2', 'X4', 'X11', 'X12', 'X13','X14', 'X15', 'X16', 'X17', 'X18', 'X19']\n",
    "\n",
    "import matplotlib.pyplot as plt\n",
    "fig, PlotCanvas=plt.subplots(nrows=1, ncols=len(ContinuousColsList), figsize=(18,5))\n",
    "\n",
    "# Creating box plots for each continuous predictor against the Target Variable \"GoodCredit\"\n",
    "for PredictorCol , i in zip(ContinuousColsList, range(len(ContinuousColsList))):\n",
    "    df.boxplot(column=PredictorCol, by='Target', figsize=(5,5), vert=True, ax=PlotCanvas[i])"
   ]
  },
  {
   "cell_type": "markdown",
   "metadata": {
    "id": "ILzxmcBGO9px"
   },
   "source": [
    "If the distribution looks similar for each category(Boxes are in the same line), that means the the continuous variable has NO effect on the target variable. Hence, the variables are not correlated to each other.\n",
    "The other other two charts also exhibit opposite characteristics, hence \"amount\" and \"duration\" are correlated with the target variable.\n",
    "We confirm this by looking at the results of ANOVA test below"
   ]
  },
  {
   "cell_type": "markdown",
   "metadata": {
    "id": "xMazn3ZwP1bF"
   },
   "source": [
    "## Statistical Feature Selection (Categorical Vs Continuous) using ANOVA test\n",
    "Analysis of variance(ANOVA) is performed to check if there is any relationship between the given continuous and categorical variable\n",
    "\n",
    "Assumption(H0): There is NO relation between the given variables (i.e. The average(mean) values of the numeric Predictor variable is same for all the groups in the categorical Target variable)\n",
    "ANOVA Test result: Probability of H0 being true"
   ]
  },
  {
   "cell_type": "code",
   "execution_count": 23,
   "metadata": {
    "id": "L_JZmD2N8Ooo"
   },
   "outputs": [],
   "source": [
    "# Defining a function to find the statistical relationship with all the categorical variables\n",
    "def FunctionAnova(inpData, TargetVariable, ContinuousPredictorList):\n",
    "    from scipy.stats import f_oneway\n",
    "\n",
    "    # Creating an empty list of final selected predictors\n",
    "    SelectedPredictors=[]\n",
    "    \n",
    "    print('##### ANOVA Results ##### \\n')\n",
    "    for predictor in ContinuousPredictorList:\n",
    "        CategoryGroupLists=inpData.groupby(TargetVariable)[predictor].apply(list)\n",
    "        AnovaResults = f_oneway(*CategoryGroupLists)\n",
    "        \n",
    "        # If the ANOVA P-Value is <0.05, that means we reject H0\n",
    "        if (AnovaResults[1] < 0.05):\n",
    "            print(predictor, 'is correlated with', TargetVariable, '| P-Value:', AnovaResults[1])\n",
    "            SelectedPredictors.append(predictor)\n",
    "        else:\n",
    "            print(predictor, 'is NOT correlated with', TargetVariable, '| P-Value:', AnovaResults[1])\n",
    "    \n",
    "    return(SelectedPredictors)"
   ]
  },
  {
   "cell_type": "code",
   "execution_count": 24,
   "metadata": {
    "colab": {
     "base_uri": "https://localhost:8080/"
    },
    "id": "yACbkvBP8Ova",
    "outputId": "2929bfe1-7394-443e-9b2a-9de53cf0be77"
   },
   "outputs": [
    {
     "name": "stdout",
     "output_type": "stream",
     "text": [
      "##### ANOVA Results ##### \n",
      "\n",
      "X2 is NOT correlated with Target | P-Value: 0.3142336079951959\n",
      "X4 is NOT correlated with Target | P-Value: 0.07905044747605407\n",
      "X11 is correlated with Target | P-Value: 4.577593787291767e-09\n",
      "X12 is NOT correlated with Target | P-Value: 0.7053412864814064\n",
      "X13 is correlated with Target | P-Value: 7.272379073851776e-09\n",
      "X14 is NOT correlated with Target | P-Value: 0.9453378332914918\n",
      "X15 is correlated with Target | P-Value: 2.943202617643978e-07\n",
      "X16 is correlated with Target | P-Value: 2.1379160745195407e-08\n",
      "X17 is NOT correlated with Target | P-Value: 0.16581356182658316\n",
      "X18 is NOT correlated with Target | P-Value: 0.23710761672337194\n",
      "X19 is correlated with Target | P-Value: 8.270542778778926e-130\n"
     ]
    },
    {
     "data": {
      "text/plain": [
       "['X11', 'X13', 'X15', 'X16', 'X19']"
      ]
     },
     "execution_count": 24,
     "metadata": {},
     "output_type": "execute_result"
    }
   ],
   "source": [
    "# Calling the function to check which categorical variables are correlated with target\n",
    "FunctionAnova(inpData=df, TargetVariable='Target', ContinuousPredictorList=ContinuousColsList)"
   ]
  },
  {
   "cell_type": "markdown",
   "metadata": {
    "id": "dt9gKK9cVg-v"
   },
   "source": [
    "# Relationship exploration: Categorical Vs Categorical -- Grouped Bar Charts\n",
    "When the target variable is Categorical and the predictor is also Categorical then we explore the correlation between them visually using barplots and statistically using Chi-square test"
   ]
  },
  {
   "cell_type": "code",
   "execution_count": 25,
   "metadata": {
    "colab": {
     "base_uri": "https://localhost:8080/",
     "height": 1000
    },
    "id": "qyslcK1yVRxJ",
    "outputId": "d31d46a9-b8d9-4cb1-f8ae-cf6a8ecc6c6b"
   },
   "outputs": [
    {
     "data": {
      "image/png": "[encoded data removed]",
      "text/plain": [
       "<Figure size 720x6480 with 8 Axes>"
      ]
     },
     "metadata": {
      "needs_background": "light"
     },
     "output_type": "display_data"
    }
   ],
   "source": [
    "# Visual Inference using Grouped Bar charts\n",
    "CategoricalColsList=['X6', 'X7', 'X8','X9','X1', 'X3', 'X5','X10']\n",
    "\n",
    "import matplotlib.pyplot as plt\n",
    "fig, PlotCanvas=plt.subplots(nrows=len(CategoricalColsList), ncols=1, figsize=(10,90))\n",
    "\n",
    "# Creating Grouped bar plots for each categorical predictor against the Target Variable \"GoodCredit\"\n",
    "for CategoricalCol , i in zip(CategoricalColsList, range(len(CategoricalColsList))):\n",
    "    CrossTabResult=pd.crosstab(index=df[CategoricalCol], columns=df['Target'])\n",
    "    CrossTabResult.plot.bar(color=['red','green'], ax=PlotCanvas[i])"
   ]
  },
  {
   "cell_type": "markdown",
   "metadata": {
    "id": "pB7w7VT9lL_Y"
   },
   "source": [
    "# Statistical Feature Selection (Categorical Vs Categorical) using Chi-Square Test\n",
    "Chi-Square test is conducted to check the correlation between two categorical variables\n",
    "\n",
    "Assumption(H0): The two columns are NOT related to each other\n",
    "Result of Chi-Sq Test: The Probability of H0 being True"
   ]
  },
  {
   "cell_type": "code",
   "execution_count": 26,
   "metadata": {
    "id": "piqwvZXKlQfk"
   },
   "outputs": [],
   "source": [
    "# Writing a function to find the correlation of all categorical variables with the Target variable\n",
    "def FunctionChisq(inpData, TargetVariable, CategoricalVariablesList):\n",
    "    from scipy.stats import chi2_contingency\n",
    "    \n",
    "    # Creating an empty list of final selected predictors\n",
    "    SelectedPredictors=[]\n",
    "\n",
    "    for predictor in CategoricalVariablesList:\n",
    "        CrossTabResult=pd.crosstab(index=inpData[TargetVariable], columns=inpData[predictor])\n",
    "        ChiSqResult = chi2_contingency(CrossTabResult)\n",
    "        \n",
    "        # If the ChiSq P-Value is <0.05, that means we reject H0\n",
    "        if (ChiSqResult[1] < 0.05):\n",
    "            print(predictor, 'is correlated with', TargetVariable, '| P-Value:', ChiSqResult[1])\n",
    "            SelectedPredictors.append(predictor)\n",
    "        else:\n",
    "            print(predictor, 'is NOT correlated with', TargetVariable, '| P-Value:', ChiSqResult[1])        \n",
    "            \n",
    "    return(SelectedPredictors)\n"
   ]
  },
  {
   "cell_type": "code",
   "execution_count": 27,
   "metadata": {
    "colab": {
     "base_uri": "https://localhost:8080/"
    },
    "id": "13cClsEh7XJu",
    "outputId": "ede2afe9-cb40-40be-b408-8e2f35ad065c"
   },
   "outputs": [
    {
     "name": "stdout",
     "output_type": "stream",
     "text": [
      "X6 is correlated with Target | P-Value: 1.629274744318748e-21\n",
      "X7 is correlated with Target | P-Value: 2.0855284927732096e-30\n",
      "X8 is NOT correlated with Target | P-Value: 0.06060563894014017\n",
      "X9 is correlated with Target | P-Value: 7.01517233329225e-45\n",
      "X1 is correlated with Target | P-Value: 0.0003651672446077749\n",
      "X3 is correlated with Target | P-Value: 1.6294599593094858e-08\n",
      "X5 is correlated with Target | P-Value: 3.578611484983834e-11\n",
      "X10 is correlated with Target | P-Value: 0.03906619142904589\n"
     ]
    },
    {
     "data": {
      "text/plain": [
       "['X6', 'X7', 'X9', 'X1', 'X3', 'X5', 'X10']"
      ]
     },
     "execution_count": 27,
     "metadata": {},
     "output_type": "execute_result"
    }
   ],
   "source": [
    "CategoricalVariables=['X6', 'X7', 'X8','X9','X1', 'X3', 'X5','X10']\n",
    "\n",
    "# Calling the function\n",
    "FunctionChisq(inpData=df, \n",
    "              TargetVariable='Target',\n",
    "              CategoricalVariablesList= CategoricalVariables)\n"
   ]
  },
  {
   "cell_type": "markdown",
   "metadata": {
    "id": "N4YITa_wp1n6"
   },
   "source": [
    "# Selecting final predictors for Machine Learning\n",
    "['X6', 'X7', 'X9', 'X1', 'X3', 'X5', 'X10','X11', 'X13', 'X15', 'X16', 'X19']"
   ]
  },
  {
   "cell_type": "code",
   "execution_count": 28,
   "metadata": {
    "colab": {
     "base_uri": "https://localhost:8080/",
     "height": 204
    },
    "id": "X1uHznRoqEO8",
    "outputId": "a0a1736e-64bf-48d2-ce1a-f210de67c79d"
   },
   "outputs": [
    {
     "data": {
      "text/html": [
       "<div>\n",
       "<style scoped>\n",
       "    .dataframe tbody tr th:only-of-type {\n",
       "        vertical-align: middle;\n",
       "    }\n",
       "\n",
       "    .dataframe tbody tr th {\n",
       "        vertical-align: top;\n",
       "    }\n",
       "\n",
       "    .dataframe thead th {\n",
       "        text-align: right;\n",
       "    }\n",
       "</style>\n",
       "<table border=\"1\" class=\"dataframe\">\n",
       "  <thead>\n",
       "    <tr style=\"text-align: right;\">\n",
       "      <th></th>\n",
       "      <th>X6</th>\n",
       "      <th>X7</th>\n",
       "      <th>X9</th>\n",
       "      <th>X1</th>\n",
       "      <th>X3</th>\n",
       "      <th>X5</th>\n",
       "      <th>X10</th>\n",
       "      <th>X11</th>\n",
       "      <th>X13</th>\n",
       "      <th>X15</th>\n",
       "      <th>X16</th>\n",
       "      <th>X19</th>\n",
       "    </tr>\n",
       "  </thead>\n",
       "  <tbody>\n",
       "    <tr>\n",
       "      <th>0</th>\n",
       "      <td>2</td>\n",
       "      <td>1.0</td>\n",
       "      <td>3.0</td>\n",
       "      <td>B</td>\n",
       "      <td>A</td>\n",
       "      <td>A</td>\n",
       "      <td>A</td>\n",
       "      <td>900000</td>\n",
       "      <td>8161</td>\n",
       "      <td>13593</td>\n",
       "      <td>1054170</td>\n",
       "      <td>0.8303</td>\n",
       "    </tr>\n",
       "    <tr>\n",
       "      <th>1</th>\n",
       "      <td>11</td>\n",
       "      <td>2.0</td>\n",
       "      <td>3.0</td>\n",
       "      <td>B</td>\n",
       "      <td>B</td>\n",
       "      <td>A</td>\n",
       "      <td>C</td>\n",
       "      <td>900000</td>\n",
       "      <td>7675</td>\n",
       "      <td>13590</td>\n",
       "      <td>1149917</td>\n",
       "      <td>0.9719</td>\n",
       "    </tr>\n",
       "    <tr>\n",
       "      <th>2</th>\n",
       "      <td>6</td>\n",
       "      <td>2.0</td>\n",
       "      <td>3.0</td>\n",
       "      <td>B</td>\n",
       "      <td>A</td>\n",
       "      <td>A</td>\n",
       "      <td>C</td>\n",
       "      <td>800000</td>\n",
       "      <td>8317</td>\n",
       "      <td>11394</td>\n",
       "      <td>751271</td>\n",
       "      <td>0.8097</td>\n",
       "    </tr>\n",
       "    <tr>\n",
       "      <th>3</th>\n",
       "      <td>5</td>\n",
       "      <td>1.0</td>\n",
       "      <td>3.0</td>\n",
       "      <td>B</td>\n",
       "      <td>A</td>\n",
       "      <td>B</td>\n",
       "      <td>C</td>\n",
       "      <td>240000</td>\n",
       "      <td>2585</td>\n",
       "      <td>10618</td>\n",
       "      <td>100850</td>\n",
       "      <td>0.8511</td>\n",
       "    </tr>\n",
       "    <tr>\n",
       "      <th>4</th>\n",
       "      <td>6</td>\n",
       "      <td>2.0</td>\n",
       "      <td>3.0</td>\n",
       "      <td>B</td>\n",
       "      <td>A</td>\n",
       "      <td>A</td>\n",
       "      <td>C</td>\n",
       "      <td>480000</td>\n",
       "      <td>5749</td>\n",
       "      <td>8727</td>\n",
       "      <td>270985</td>\n",
       "      <td>0.9877</td>\n",
       "    </tr>\n",
       "  </tbody>\n",
       "</table>\n",
       "</div>"
      ],
      "text/plain": [
       "   X6   X7   X9 X1 X3 X5 X10     X11   X13    X15      X16     X19\n",
       "0   2  1.0  3.0  B  A  A   A  900000  8161  13593  1054170  0.8303\n",
       "1  11  2.0  3.0  B  B  A   C  900000  7675  13590  1149917  0.9719\n",
       "2   6  2.0  3.0  B  A  A   C  800000  8317  11394   751271  0.8097\n",
       "3   5  1.0  3.0  B  A  B   C  240000  2585  10618   100850  0.8511\n",
       "4   6  2.0  3.0  B  A  A   C  480000  5749   8727   270985  0.9877"
      ]
     },
     "execution_count": 28,
     "metadata": {},
     "output_type": "execute_result"
    }
   ],
   "source": [
    "SelectedColumns=['X6', 'X7', 'X9', 'X1', 'X3', 'X5', 'X10','X11', 'X13', 'X15', 'X16', 'X19']\n",
    "\n",
    "# Selecting final columns\n",
    "DataForML=df[SelectedColumns]\n",
    "DataForML.head()"
   ]
  },
  {
   "cell_type": "markdown",
   "metadata": {
    "id": "4_SktUY-r0cS"
   },
   "source": [
    "# Data Pre-processing for Machine Learning"
   ]
  },
  {
   "cell_type": "code",
   "execution_count": 29,
   "metadata": {
    "colab": {
     "base_uri": "https://localhost:8080/"
    },
    "id": "jWwMbl0Hr14_",
    "outputId": "cc9668df-8087-41fa-829d-34ac3b99c6ce"
   },
   "outputs": [
    {
     "name": "stdout",
     "output_type": "stream",
     "text": [
      "X1 :  ['B' 'A']\n",
      "X3 :  ['A' 'B' 'C']\n",
      "X5 :  ['A' 'B']\n",
      "X10 :  ['A' 'C' 'B' 'D']\n"
     ]
    }
   ],
   "source": [
    "print(\"X1 : \",df.X1.unique())\n",
    "print(\"X3 : \",df.X3.unique())\n",
    "print(\"X5 : \",df.X5.unique())\n",
    "print(\"X10 : \",df.X10.unique())"
   ]
  },
  {
   "cell_type": "code",
   "execution_count": 30,
   "metadata": {
    "id": "5W9SAdyzqRt7"
   },
   "outputs": [],
   "source": [
    "DataForML['X1'] = DataForML['X1'].map({\"A\":0,\"B\":1 })\n",
    "DataForML['X3'] = DataForML['X3'].map({\"A\":0,\"B\":1 ,\"C\":2})\n",
    "DataForML['X5'] = DataForML['X5'].map({\"A\":0,\"B\":1 })\n",
    "DataForML['X10'] = DataForML['X10'].map({\"A\":0,\"B\":1 ,\"C\":2, \"D\":3})"
   ]
  },
  {
   "cell_type": "code",
   "execution_count": 31,
   "metadata": {
    "id": "AHXAgoao42wA"
   },
   "outputs": [],
   "source": [
    "# Adding Target Variable to the data\n",
    "DataForML['Target']=df['Target']"
   ]
  },
  {
   "cell_type": "code",
   "execution_count": 32,
   "metadata": {
    "id": "7ParevqEhumS"
   },
   "outputs": [],
   "source": [
    "# Saving this final data for reference during deployment\n",
    "DataForML.to_pickle('DataForML.pkl')"
   ]
  },
  {
   "cell_type": "markdown",
   "metadata": {
    "id": "Lt89bXintHmY"
   },
   "source": [
    "# Machine Learning: Splitting the data into Training and Testing sample\n",
    "We dont use the full data for creating the model. Some data is randomly selected and kept aside for checking how good the model is. This is known as Testing Data and the remaining data is called Training data on which the model is built. Typically 70% of data is used as Training data and the rest 30% is used as Tesing data."
   ]
  },
  {
   "cell_type": "code",
   "execution_count": 33,
   "metadata": {
    "colab": {
     "base_uri": "https://localhost:8080/"
    },
    "id": "HNToA6MfhusS",
    "outputId": "1f293a5f-11d3-4320-91d7-98470cb0e0f8"
   },
   "outputs": [
    {
     "data": {
      "text/plain": [
       "Index(['X6', 'X7', 'X9', 'X1', 'X3', 'X5', 'X10', 'X11', 'X13', 'X15', 'X16',\n",
       "       'X19', 'Target'],\n",
       "      dtype='object')"
      ]
     },
     "execution_count": 33,
     "metadata": {},
     "output_type": "execute_result"
    }
   ],
   "source": [
    "# Printing all the column names for our reference\n",
    "DataForML.columns"
   ]
  },
  {
   "cell_type": "code",
   "execution_count": 34,
   "metadata": {
    "id": "ikUxy7Z7huwx"
   },
   "outputs": [],
   "source": [
    "TargetVariable='Target'\n",
    "Predictors=['X6', 'X7', 'X9', 'X1', 'X3', 'X5', 'X10', 'X11', 'X13', 'X15', 'X16',\n",
    "       'X19']\n",
    "\n",
    "X=DataForML[Predictors].values\n",
    "y=DataForML[TargetVariable].values\n",
    "\n",
    "# Split the data into training and testing set\n",
    "from sklearn.model_selection import train_test_split\n",
    "X_train, X_test, y_train, y_test = train_test_split(X, y, test_size=0.3, random_state=428)"
   ]
  },
  {
   "cell_type": "markdown",
   "metadata": {
    "id": "IweBB4M4tyEV"
   },
   "source": [
    "# Logistic Regression"
   ]
  },
  {
   "cell_type": "code",
   "execution_count": 35,
   "metadata": {
    "colab": {
     "base_uri": "https://localhost:8080/"
    },
    "id": "ANXZwJ-mvQbQ",
    "outputId": "e74fa7fd-f36a-4a1a-aae8-b852f9f69790"
   },
   "outputs": [
    {
     "name": "stderr",
     "output_type": "stream",
     "text": [
      "C:\\Users\\PC\\Anaconda3\\lib\\site-packages\\sklearn\\utils\\optimize.py:212: ConvergenceWarning: newton-cg failed to converge. Increase the number of iterations.\n",
      "  \"number of iterations.\", ConvergenceWarning)\n"
     ]
    },
    {
     "name": "stdout",
     "output_type": "stream",
     "text": [
      "              precision    recall  f1-score   support\n",
      "\n",
      "           0       0.87      0.94      0.91       301\n",
      "           1       0.74      0.56      0.64        93\n",
      "\n",
      "    accuracy                           0.85       394\n",
      "   macro avg       0.81      0.75      0.77       394\n",
      "weighted avg       0.84      0.85      0.84       394\n",
      "\n",
      "[[283  18]\n",
      " [ 41  52]]\n",
      "Accuracy of the model on Testing Sample Data: 0.84\n"
     ]
    },
    {
     "name": "stderr",
     "output_type": "stream",
     "text": [
      "C:\\Users\\PC\\Anaconda3\\lib\\site-packages\\sklearn\\utils\\optimize.py:212: ConvergenceWarning: newton-cg failed to converge. Increase the number of iterations.\n",
      "  \"number of iterations.\", ConvergenceWarning)\n",
      "C:\\Users\\PC\\Anaconda3\\lib\\site-packages\\sklearn\\utils\\optimize.py:212: ConvergenceWarning: newton-cg failed to converge. Increase the number of iterations.\n",
      "  \"number of iterations.\", ConvergenceWarning)\n",
      "C:\\Users\\PC\\Anaconda3\\lib\\site-packages\\sklearn\\utils\\optimize.py:212: ConvergenceWarning: newton-cg failed to converge. Increase the number of iterations.\n",
      "  \"number of iterations.\", ConvergenceWarning)\n",
      "C:\\Users\\PC\\Anaconda3\\lib\\site-packages\\sklearn\\utils\\optimize.py:212: ConvergenceWarning: newton-cg failed to converge. Increase the number of iterations.\n",
      "  \"number of iterations.\", ConvergenceWarning)\n",
      "C:\\Users\\PC\\Anaconda3\\lib\\site-packages\\sklearn\\utils\\optimize.py:212: ConvergenceWarning: newton-cg failed to converge. Increase the number of iterations.\n",
      "  \"number of iterations.\", ConvergenceWarning)\n",
      "C:\\Users\\PC\\Anaconda3\\lib\\site-packages\\sklearn\\utils\\optimize.py:212: ConvergenceWarning: newton-cg failed to converge. Increase the number of iterations.\n",
      "  \"number of iterations.\", ConvergenceWarning)\n",
      "C:\\Users\\PC\\Anaconda3\\lib\\site-packages\\sklearn\\utils\\optimize.py:212: ConvergenceWarning: newton-cg failed to converge. Increase the number of iterations.\n",
      "  \"number of iterations.\", ConvergenceWarning)\n",
      "C:\\Users\\PC\\Anaconda3\\lib\\site-packages\\sklearn\\utils\\optimize.py:212: ConvergenceWarning: newton-cg failed to converge. Increase the number of iterations.\n",
      "  \"number of iterations.\", ConvergenceWarning)\n",
      "C:\\Users\\PC\\Anaconda3\\lib\\site-packages\\sklearn\\utils\\optimize.py:212: ConvergenceWarning: newton-cg failed to converge. Increase the number of iterations.\n",
      "  \"number of iterations.\", ConvergenceWarning)\n"
     ]
    },
    {
     "name": "stdout",
     "output_type": "stream",
     "text": [
      "\n",
      "Accuracy values for 10-fold Cross Validation:\n",
      " [0.79506934 0.83220388 0.81464742 0.83461866 0.80964733 0.84378803\n",
      " 0.87613243 0.82643114 0.86200483 0.80253521]\n",
      "\n",
      "Final Average Accuracy of the model: 0.83\n"
     ]
    },
    {
     "name": "stderr",
     "output_type": "stream",
     "text": [
      "C:\\Users\\PC\\Anaconda3\\lib\\site-packages\\sklearn\\utils\\optimize.py:212: ConvergenceWarning: newton-cg failed to converge. Increase the number of iterations.\n",
      "  \"number of iterations.\", ConvergenceWarning)\n"
     ]
    }
   ],
   "source": [
    "# Logistic Regression\n",
    "from sklearn.linear_model import LogisticRegression\n",
    "# choose parameter Penalty='l1' or C=1\n",
    "# choose different values for solver 'newton-cg', 'lbfgs', 'liblinear', 'sag', 'saga'\n",
    "clf = LogisticRegression(C=1,penalty='l2', solver='newton-cg')\n",
    "\n",
    "# Printing all the parameters of logistic regression\n",
    "# print(clf)\n",
    "\n",
    "# Creating the model on Training Data\n",
    "LOG=clf.fit(X_train,y_train)\n",
    "prediction=LOG.predict(X_test)\n",
    "\n",
    "# Measuring accuracy on Testing Data\n",
    "from sklearn import metrics\n",
    "print(metrics.classification_report(y_test, prediction))\n",
    "print(metrics.confusion_matrix(y_test, prediction))\n",
    "\n",
    "# Printing the Overall Accuracy of the model\n",
    "F1_Score=metrics.f1_score(y_test, prediction, average='weighted')\n",
    "print('Accuracy of the model on Testing Sample Data:', round(F1_Score,2))\n",
    "\n",
    "# Importing cross validation function from sklearn\n",
    "from sklearn.model_selection import cross_val_score\n",
    "\n",
    "# Running 10-Fold Cross validation on a given algorithmd\n",
    "# Passing full data X and y because the K-fold will split the data and automatically choose train/test\n",
    "Accuracy_Values=cross_val_score(LOG, X , y, cv=10, scoring='f1_weighted')\n",
    "print('\\nAccuracy values for 10-fold Cross Validation:\\n',Accuracy_Values)\n",
    "print('\\nFinal Average Accuracy of the model:', round(Accuracy_Values.mean(),2))"
   ]
  },
  {
   "cell_type": "markdown",
   "metadata": {
    "id": "H13H59lgvk0h"
   },
   "source": [
    "# Decision Trees"
   ]
  },
  {
   "cell_type": "code",
   "execution_count": 36,
   "metadata": {
    "colab": {
     "base_uri": "https://localhost:8080/",
     "height": 673
    },
    "id": "9D3quCczvlKv",
    "outputId": "fb6d5631-e12e-45fe-eb61-a2f18488cedc"
   },
   "outputs": [
    {
     "name": "stdout",
     "output_type": "stream",
     "text": [
      "DecisionTreeClassifier(max_depth=4)\n",
      "              precision    recall  f1-score   support\n",
      "\n",
      "           0       0.92      0.93      0.93       301\n",
      "           1       0.78      0.74      0.76        93\n",
      "\n",
      "    accuracy                           0.89       394\n",
      "   macro avg       0.85      0.84      0.84       394\n",
      "weighted avg       0.89      0.89      0.89       394\n",
      "\n",
      "[[281  20]\n",
      " [ 24  69]]\n",
      "Accuracy of the model on Testing Sample Data: 0.89\n",
      "\n",
      "Accuracy values for 10-fold Cross Validation:\n",
      " [0.88299663 0.82677329 0.81128489 0.90399747 0.87643161 0.85265498\n",
      " 0.91876709 0.89612621 0.91648598 0.67858032]\n",
      "\n",
      "Final Average Accuracy of the model: 0.86\n"
     ]
    },
    {
     "data": {
      "image/png": "[encoded data removed]",
      "text/plain": [
       "<Figure size 432x288 with 1 Axes>"
      ]
     },
     "metadata": {
      "needs_background": "light"
     },
     "output_type": "display_data"
    }
   ],
   "source": [
    "#Decision Trees\n",
    "from sklearn import tree\n",
    "# choose from different tunable hyper parameters\n",
    "# Choose various values of max_depth and criterion for tuning the model\n",
    "clf = tree.DecisionTreeClassifier(max_depth=4,criterion='gini')\n",
    "\n",
    "# Printing all the parameters of Decision Trees\n",
    "print(clf)\n",
    "\n",
    "# Creating the model on Training Data\n",
    "DTree=clf.fit(X_train,y_train)\n",
    "prediction=DTree.predict(X_test)\n",
    "\n",
    "# Measuring accuracy on Testing Data\n",
    "from sklearn import metrics\n",
    "print(metrics.classification_report(y_test, prediction))\n",
    "print(metrics.confusion_matrix(y_test, prediction))\n",
    "\n",
    "# Printing the Overall Accuracy of the model\n",
    "F1_Score=metrics.f1_score(y_test, prediction, average='weighted')\n",
    "print('Accuracy of the model on Testing Sample Data:', round(F1_Score,2))\n",
    "\n",
    "# Plotting the feature importance for Top 10 most important columns\n",
    "%matplotlib inline\n",
    "feature_importances = pd.Series(DTree.feature_importances_, index=Predictors)\n",
    "feature_importances.nlargest(10).plot(kind='barh')\n",
    "\n",
    "# Importing cross validation function from sklearn\n",
    "from sklearn.model_selection import cross_val_score\n",
    "\n",
    "# Running 10-Fold Cross validation on a given algorithm\n",
    "# Passing full data X and y because the K-fold will split the data and automatically choose train/test\n",
    "Accuracy_Values=cross_val_score(DTree, X , y, cv=10, scoring='f1_weighted')\n",
    "print('\\nAccuracy values for 10-fold Cross Validation:\\n',Accuracy_Values)\n",
    "print('\\nFinal Average Accuracy of the model:', round(Accuracy_Values.mean(),2))"
   ]
  },
  {
   "cell_type": "code",
   "execution_count": 37,
   "metadata": {
    "colab": {
     "base_uri": "https://localhost:8080/"
    },
    "id": "B5OAk18LsJQm",
    "outputId": "b70d23c3-e883-4d7d-e111-86328ae047d0"
   },
   "outputs": [
    {
     "data": {
      "text/plain": [
       "{'precision': 0.7752808988764045,\n",
       " 'recall': 0.7419354838709677,\n",
       " 'f1-score': 0.7582417582417582,\n",
       " 'support': 93}"
      ]
     },
     "execution_count": 37,
     "metadata": {},
     "output_type": "execute_result"
    }
   ],
   "source": [
    "metrics.classification_report(y_test, prediction, output_dict=True)['1']"
   ]
  },
  {
   "cell_type": "markdown",
   "metadata": {
    "id": "JTf9RmNTvlYk"
   },
   "source": [
    "# Random Forest"
   ]
  },
  {
   "cell_type": "code",
   "execution_count": 38,
   "metadata": {
    "colab": {
     "base_uri": "https://localhost:8080/",
     "height": 724
    },
    "id": "ESSiZ75-vluS",
    "outputId": "3d2a6d2a-a038-4244-8839-f0a91db5ebb9"
   },
   "outputs": [
    {
     "name": "stdout",
     "output_type": "stream",
     "text": [
      "RandomForestClassifier(max_depth=10)\n",
      "              precision    recall  f1-score   support\n",
      "\n",
      "           0       0.94      0.93      0.93       301\n",
      "           1       0.78      0.82      0.80        93\n",
      "\n",
      "    accuracy                           0.90       394\n",
      "   macro avg       0.86      0.87      0.87       394\n",
      "weighted avg       0.90      0.90      0.90       394\n",
      "\n",
      "[[279  22]\n",
      " [ 17  76]]\n",
      "Accuracy of the model on Testing Sample Data: 0.9\n",
      "\n",
      "Accuracy values for 10-fold Cross Validation:\n",
      " [0.87690877 0.84120885 0.79547788 0.87445823 0.86098556 0.8457701\n",
      " 0.88611725 0.90482367 0.9001968  0.79419916]\n",
      "\n",
      "Final Average Accuracy of the model: 0.86\n"
     ]
    },
    {
     "data": {
      "text/plain": [
       "<matplotlib.axes._subplots.AxesSubplot at 0x698ef5c908>"
      ]
     },
     "execution_count": 38,
     "metadata": {},
     "output_type": "execute_result"
    },
    {
     "data": {
      "image/png": "[encoded data removed]",
      "text/plain": [
       "<Figure size 432x288 with 1 Axes>"
      ]
     },
     "metadata": {
      "needs_background": "light"
     },
     "output_type": "display_data"
    }
   ],
   "source": [
    "# Random Forest (Bagging of multiple Decision Trees)\n",
    "from sklearn.ensemble import RandomForestClassifier\n",
    "# Choose various values of max_depth, n_estimators and criterion for tuning the model\n",
    "clf = RandomForestClassifier(max_depth=10, n_estimators=100,criterion='gini')\n",
    "\n",
    "\n",
    "# Printing all the parameters of Random Forest\n",
    "print(clf)\n",
    "\n",
    "# Creating the model on Training Data\n",
    "RF=clf.fit(X_train,y_train)\n",
    "prediction=RF.predict(X_test)\n",
    "\n",
    "# Measuring accuracy on Testing Data\n",
    "from sklearn import metrics\n",
    "print(metrics.classification_report(y_test, prediction))\n",
    "print(metrics.confusion_matrix(y_test, prediction))\n",
    "\n",
    "# Printing the Overall Accuracy of the model\n",
    "F1_Score=metrics.f1_score(y_test, prediction, average='weighted')\n",
    "print('Accuracy of the model on Testing Sample Data:', round(F1_Score,2))\n",
    "\n",
    "# Importing cross validation function from sklearn\n",
    "from sklearn.model_selection import cross_val_score\n",
    "\n",
    "# Running 10-Fold Cross validation on a given algorithm\n",
    "# Passing full data X and y because the K-fold will split the data and automatically choose train/test\n",
    "Accuracy_Values=cross_val_score(RF, X , y, cv=10, scoring='f1_weighted')\n",
    "print('\\nAccuracy values for 10-fold Cross Validation:\\n',Accuracy_Values)\n",
    "print('\\nFinal Average Accuracy of the model:', round(Accuracy_Values.mean(),2))\n",
    "\n",
    "\n",
    "# Plotting the feature importance for Top 10 most important columns\n",
    "%matplotlib inline\n",
    "feature_importances = pd.Series(RF.feature_importances_, index=Predictors)\n",
    "feature_importances.nlargest(10).plot(kind='barh')"
   ]
  },
  {
   "cell_type": "markdown",
   "metadata": {
    "id": "noE2TZFWvmFU"
   },
   "source": [
    "# AdaBoost"
   ]
  },
  {
   "cell_type": "code",
   "execution_count": 39,
   "metadata": {
    "colab": {
     "base_uri": "https://localhost:8080/",
     "height": 860
    },
    "id": "um5pBsISvmXu",
    "outputId": "f90a1288-7700-4547-dbac-96f38a2fbadd"
   },
   "outputs": [
    {
     "name": "stdout",
     "output_type": "stream",
     "text": [
      "AdaBoostClassifier(base_estimator=DecisionTreeClassifier(max_depth=4),\n",
      "                   learning_rate=0.01, n_estimators=200)\n",
      "              precision    recall  f1-score   support\n",
      "\n",
      "           0       0.94      0.91      0.92       301\n",
      "           1       0.73      0.82      0.77        93\n",
      "\n",
      "    accuracy                           0.89       394\n",
      "   macro avg       0.84      0.86      0.85       394\n",
      "weighted avg       0.89      0.89      0.89       394\n",
      "\n",
      "[[273  28]\n",
      " [ 17  76]]\n",
      "Accuracy of the model on Testing Sample Data: 0.89\n",
      "\n",
      "Accuracy values for 10-fold Cross Validation:\n",
      " [0.88510414 0.81404035 0.80721372 0.843621   0.6358349  0.83220388\n",
      " 0.86788864 0.86666283 0.85920443 0.71137318]\n",
      "\n",
      "Final Average Accuracy of the model: 0.81\n"
     ]
    },
    {
     "data": {
      "text/plain": [
       "<matplotlib.axes._subplots.AxesSubplot at 0x698efde080>"
      ]
     },
     "execution_count": 39,
     "metadata": {},
     "output_type": "execute_result"
    },
    {
     "data": {
      "image/png": "[encoded data removed]",
      "text/plain": [
       "<Figure size 432x288 with 1 Axes>"
      ]
     },
     "metadata": {
      "needs_background": "light"
     },
     "output_type": "display_data"
    }
   ],
   "source": [
    "# Adaboost \n",
    "from sklearn.ensemble import AdaBoostClassifier\n",
    "from sklearn.tree import DecisionTreeClassifier\n",
    "\n",
    "# Choosing Decision Tree with 1 level as the weak learner\n",
    "# Choose different values of max_depth, n_estimators and learning_rate to tune the model\n",
    "DTC=DecisionTreeClassifier(max_depth=4)\n",
    "clf = AdaBoostClassifier(n_estimators=200, base_estimator=DTC ,learning_rate=0.01)\n",
    "\n",
    "# Printing all the parameters of Adaboost\n",
    "print(clf)\n",
    "\n",
    "# Creating the model on Training Data\n",
    "AB=clf.fit(X_train,y_train)\n",
    "prediction=AB.predict(X_test)\n",
    "\n",
    "# Measuring accuracy on Testing Data\n",
    "from sklearn import metrics\n",
    "print(metrics.classification_report(y_test, prediction))\n",
    "print(metrics.confusion_matrix(y_test, prediction))\n",
    "\n",
    "# Printing the Overall Accuracy of the model\n",
    "F1_Score=metrics.f1_score(y_test, prediction, average='weighted')\n",
    "print('Accuracy of the model on Testing Sample Data:', round(F1_Score,2))\n",
    "\n",
    "# Importing cross validation function from sklearn\n",
    "from sklearn.model_selection import cross_val_score\n",
    "\n",
    "# Running 10-Fold Cross validation on a given algorithm\n",
    "# Passing full data X and y because the K-fold will split the data and automatically choose train/test\n",
    "Accuracy_Values=cross_val_score(AB, X , y, cv=10, scoring='f1_weighted')\n",
    "print('\\nAccuracy values for 10-fold Cross Validation:\\n',Accuracy_Values)\n",
    "print('\\nFinal Average Accuracy of the model:', round(Accuracy_Values.mean(),2))\n",
    "\n",
    "# Plotting the feature importance for Top 10 most important columns\n",
    "%matplotlib inline\n",
    "feature_importances = pd.Series(AB.feature_importances_, index=Predictors)\n",
    "feature_importances.nlargest(10).plot(kind='barh')"
   ]
  },
  {
   "cell_type": "markdown",
   "metadata": {
    "id": "gzaib8C9wyAr"
   },
   "source": [
    "# XGBoost"
   ]
  },
  {
   "cell_type": "code",
   "execution_count": 40,
   "metadata": {
    "colab": {
     "base_uri": "https://localhost:8080/"
    },
    "id": "v3ulkzV_wyaD",
    "outputId": "9d2b0943-e5a8-422e-eeec-0c6d156d704e"
   },
   "outputs": [
    {
     "name": "stdout",
     "output_type": "stream",
     "text": [
      "XGBClassifier(base_score=None, booster='gbtree', colsample_bylevel=None,\n",
      "              colsample_bynode=None, colsample_bytree=None, gamma=None,\n",
      "              gpu_id=None, importance_type='gain', interaction_constraints=None,\n",
      "              learning_rate=0.01, max_delta_step=None, max_depth=10,\n",
      "              min_child_weight=None, missing=nan, monotone_constraints=None,\n",
      "              n_estimators=200, n_jobs=None, num_parallel_tree=None,\n",
      "              random_state=None, reg_alpha=None, reg_lambda=None,\n",
      "              scale_pos_weight=None, subsample=None, tree_method=None,\n",
      "              validate_parameters=None, verbosity=None)\n",
      "[23:17:23] WARNING: C:/Users/Administrator/workspace/xgboost-win64_release_1.4.0/src/learner.cc:1095: Starting in XGBoost 1.3.0, the default evaluation metric used with the objective 'binary:logistic' was changed from 'error' to 'logloss'. Explicitly set eval_metric if you'd like to restore the old behavior.\n"
     ]
    },
    {
     "name": "stderr",
     "output_type": "stream",
     "text": [
      "C:\\Users\\PC\\Anaconda3\\lib\\site-packages\\xgboost\\sklearn.py:1146: UserWarning: The use of label encoder in XGBClassifier is deprecated and will be removed in a future release. To remove this warning, do the following: 1) Pass option use_label_encoder=False when constructing XGBClassifier object; and 2) Encode your labels (y) as integers starting with 0, i.e. 0, 1, 2, ..., [num_class - 1].\n",
      "  warnings.warn(label_encoder_deprecation_msg, UserWarning)\n"
     ]
    },
    {
     "name": "stdout",
     "output_type": "stream",
     "text": [
      "              precision    recall  f1-score   support\n",
      "\n",
      "           0       0.95      0.93      0.94       301\n",
      "           1       0.78      0.83      0.80        93\n",
      "\n",
      "    accuracy                           0.90       394\n",
      "   macro avg       0.86      0.88      0.87       394\n",
      "weighted avg       0.91      0.90      0.90       394\n",
      "\n",
      "[[279  22]\n",
      " [ 16  77]]\n",
      "Accuracy of the model on Testing Sample Data: 0.9\n",
      "[23:17:24] WARNING: C:/Users/Administrator/workspace/xgboost-win64_release_1.4.0/src/learner.cc:1095: Starting in XGBoost 1.3.0, the default evaluation metric used with the objective 'binary:logistic' was changed from 'error' to 'logloss'. Explicitly set eval_metric if you'd like to restore the old behavior.\n"
     ]
    },
    {
     "name": "stderr",
     "output_type": "stream",
     "text": [
      "C:\\Users\\PC\\Anaconda3\\lib\\site-packages\\xgboost\\sklearn.py:1146: UserWarning: The use of label encoder in XGBClassifier is deprecated and will be removed in a future release. To remove this warning, do the following: 1) Pass option use_label_encoder=False when constructing XGBClassifier object; and 2) Encode your labels (y) as integers starting with 0, i.e. 0, 1, 2, ..., [num_class - 1].\n",
      "  warnings.warn(label_encoder_deprecation_msg, UserWarning)\n",
      "C:\\Users\\PC\\Anaconda3\\lib\\site-packages\\xgboost\\sklearn.py:1146: UserWarning: The use of label encoder in XGBClassifier is deprecated and will be removed in a future release. To remove this warning, do the following: 1) Pass option use_label_encoder=False when constructing XGBClassifier object; and 2) Encode your labels (y) as integers starting with 0, i.e. 0, 1, 2, ..., [num_class - 1].\n",
      "  warnings.warn(label_encoder_deprecation_msg, UserWarning)\n"
     ]
    },
    {
     "name": "stdout",
     "output_type": "stream",
     "text": [
      "[23:17:26] WARNING: C:/Users/Administrator/workspace/xgboost-win64_release_1.4.0/src/learner.cc:1095: Starting in XGBoost 1.3.0, the default evaluation metric used with the objective 'binary:logistic' was changed from 'error' to 'logloss'. Explicitly set eval_metric if you'd like to restore the old behavior.\n"
     ]
    },
    {
     "name": "stderr",
     "output_type": "stream",
     "text": [
      "C:\\Users\\PC\\Anaconda3\\lib\\site-packages\\xgboost\\sklearn.py:1146: UserWarning: The use of label encoder in XGBClassifier is deprecated and will be removed in a future release. To remove this warning, do the following: 1) Pass option use_label_encoder=False when constructing XGBClassifier object; and 2) Encode your labels (y) as integers starting with 0, i.e. 0, 1, 2, ..., [num_class - 1].\n",
      "  warnings.warn(label_encoder_deprecation_msg, UserWarning)\n"
     ]
    },
    {
     "name": "stdout",
     "output_type": "stream",
     "text": [
      "[23:17:27] WARNING: C:/Users/Administrator/workspace/xgboost-win64_release_1.4.0/src/learner.cc:1095: Starting in XGBoost 1.3.0, the default evaluation metric used with the objective 'binary:logistic' was changed from 'error' to 'logloss'. Explicitly set eval_metric if you'd like to restore the old behavior.\n"
     ]
    },
    {
     "name": "stderr",
     "output_type": "stream",
     "text": [
      "C:\\Users\\PC\\Anaconda3\\lib\\site-packages\\xgboost\\sklearn.py:1146: UserWarning: The use of label encoder in XGBClassifier is deprecated and will be removed in a future release. To remove this warning, do the following: 1) Pass option use_label_encoder=False when constructing XGBClassifier object; and 2) Encode your labels (y) as integers starting with 0, i.e. 0, 1, 2, ..., [num_class - 1].\n",
      "  warnings.warn(label_encoder_deprecation_msg, UserWarning)\n"
     ]
    },
    {
     "name": "stdout",
     "output_type": "stream",
     "text": [
      "[23:17:28] WARNING: C:/Users/Administrator/workspace/xgboost-win64_release_1.4.0/src/learner.cc:1095: Starting in XGBoost 1.3.0, the default evaluation metric used with the objective 'binary:logistic' was changed from 'error' to 'logloss'. Explicitly set eval_metric if you'd like to restore the old behavior.\n"
     ]
    },
    {
     "name": "stderr",
     "output_type": "stream",
     "text": [
      "C:\\Users\\PC\\Anaconda3\\lib\\site-packages\\xgboost\\sklearn.py:1146: UserWarning: The use of label encoder in XGBClassifier is deprecated and will be removed in a future release. To remove this warning, do the following: 1) Pass option use_label_encoder=False when constructing XGBClassifier object; and 2) Encode your labels (y) as integers starting with 0, i.e. 0, 1, 2, ..., [num_class - 1].\n",
      "  warnings.warn(label_encoder_deprecation_msg, UserWarning)\n"
     ]
    },
    {
     "name": "stdout",
     "output_type": "stream",
     "text": [
      "[23:17:29] WARNING: C:/Users/Administrator/workspace/xgboost-win64_release_1.4.0/src/learner.cc:1095: Starting in XGBoost 1.3.0, the default evaluation metric used with the objective 'binary:logistic' was changed from 'error' to 'logloss'. Explicitly set eval_metric if you'd like to restore the old behavior.\n"
     ]
    },
    {
     "name": "stderr",
     "output_type": "stream",
     "text": [
      "C:\\Users\\PC\\Anaconda3\\lib\\site-packages\\xgboost\\sklearn.py:1146: UserWarning: The use of label encoder in XGBClassifier is deprecated and will be removed in a future release. To remove this warning, do the following: 1) Pass option use_label_encoder=False when constructing XGBClassifier object; and 2) Encode your labels (y) as integers starting with 0, i.e. 0, 1, 2, ..., [num_class - 1].\n",
      "  warnings.warn(label_encoder_deprecation_msg, UserWarning)\n"
     ]
    },
    {
     "name": "stdout",
     "output_type": "stream",
     "text": [
      "[23:17:29] WARNING: C:/Users/Administrator/workspace/xgboost-win64_release_1.4.0/src/learner.cc:1095: Starting in XGBoost 1.3.0, the default evaluation metric used with the objective 'binary:logistic' was changed from 'error' to 'logloss'. Explicitly set eval_metric if you'd like to restore the old behavior.\n"
     ]
    },
    {
     "name": "stderr",
     "output_type": "stream",
     "text": [
      "C:\\Users\\PC\\Anaconda3\\lib\\site-packages\\xgboost\\sklearn.py:1146: UserWarning: The use of label encoder in XGBClassifier is deprecated and will be removed in a future release. To remove this warning, do the following: 1) Pass option use_label_encoder=False when constructing XGBClassifier object; and 2) Encode your labels (y) as integers starting with 0, i.e. 0, 1, 2, ..., [num_class - 1].\n",
      "  warnings.warn(label_encoder_deprecation_msg, UserWarning)\n"
     ]
    },
    {
     "name": "stdout",
     "output_type": "stream",
     "text": [
      "[23:17:30] WARNING: C:/Users/Administrator/workspace/xgboost-win64_release_1.4.0/src/learner.cc:1095: Starting in XGBoost 1.3.0, the default evaluation metric used with the objective 'binary:logistic' was changed from 'error' to 'logloss'. Explicitly set eval_metric if you'd like to restore the old behavior.\n"
     ]
    },
    {
     "name": "stderr",
     "output_type": "stream",
     "text": [
      "C:\\Users\\PC\\Anaconda3\\lib\\site-packages\\xgboost\\sklearn.py:1146: UserWarning: The use of label encoder in XGBClassifier is deprecated and will be removed in a future release. To remove this warning, do the following: 1) Pass option use_label_encoder=False when constructing XGBClassifier object; and 2) Encode your labels (y) as integers starting with 0, i.e. 0, 1, 2, ..., [num_class - 1].\n",
      "  warnings.warn(label_encoder_deprecation_msg, UserWarning)\n"
     ]
    },
    {
     "name": "stdout",
     "output_type": "stream",
     "text": [
      "[23:17:31] WARNING: C:/Users/Administrator/workspace/xgboost-win64_release_1.4.0/src/learner.cc:1095: Starting in XGBoost 1.3.0, the default evaluation metric used with the objective 'binary:logistic' was changed from 'error' to 'logloss'. Explicitly set eval_metric if you'd like to restore the old behavior.\n"
     ]
    },
    {
     "name": "stderr",
     "output_type": "stream",
     "text": [
      "C:\\Users\\PC\\Anaconda3\\lib\\site-packages\\xgboost\\sklearn.py:1146: UserWarning: The use of label encoder in XGBClassifier is deprecated and will be removed in a future release. To remove this warning, do the following: 1) Pass option use_label_encoder=False when constructing XGBClassifier object; and 2) Encode your labels (y) as integers starting with 0, i.e. 0, 1, 2, ..., [num_class - 1].\n",
      "  warnings.warn(label_encoder_deprecation_msg, UserWarning)\n"
     ]
    },
    {
     "name": "stdout",
     "output_type": "stream",
     "text": [
      "[23:17:31] WARNING: C:/Users/Administrator/workspace/xgboost-win64_release_1.4.0/src/learner.cc:1095: Starting in XGBoost 1.3.0, the default evaluation metric used with the objective 'binary:logistic' was changed from 'error' to 'logloss'. Explicitly set eval_metric if you'd like to restore the old behavior.\n"
     ]
    },
    {
     "name": "stderr",
     "output_type": "stream",
     "text": [
      "C:\\Users\\PC\\Anaconda3\\lib\\site-packages\\xgboost\\sklearn.py:1146: UserWarning: The use of label encoder in XGBClassifier is deprecated and will be removed in a future release. To remove this warning, do the following: 1) Pass option use_label_encoder=False when constructing XGBClassifier object; and 2) Encode your labels (y) as integers starting with 0, i.e. 0, 1, 2, ..., [num_class - 1].\n",
      "  warnings.warn(label_encoder_deprecation_msg, UserWarning)\n"
     ]
    },
    {
     "name": "stdout",
     "output_type": "stream",
     "text": [
      "[23:17:32] WARNING: C:/Users/Administrator/workspace/xgboost-win64_release_1.4.0/src/learner.cc:1095: Starting in XGBoost 1.3.0, the default evaluation metric used with the objective 'binary:logistic' was changed from 'error' to 'logloss'. Explicitly set eval_metric if you'd like to restore the old behavior.\n",
      "\n",
      "Accuracy values for 10-fold Cross Validation:\n",
      " [0.91284107 0.82001184 0.81383453 0.88386763 0.78098468 0.81006972\n",
      " 0.89425987 0.86611987 0.88484246 0.82240289]\n",
      "\n",
      "Final Average Accuracy of the model: 0.85\n"
     ]
    },
    {
     "data": {
      "text/plain": [
       "<matplotlib.axes._subplots.AxesSubplot at 0x698ebc9fd0>"
      ]
     },
     "execution_count": 40,
     "metadata": {},
     "output_type": "execute_result"
    },
    {
     "data": {
      "image/png": "[encoded data removed]",
      "text/plain": [
       "<Figure size 432x288 with 1 Axes>"
      ]
     },
     "metadata": {
      "needs_background": "light"
     },
     "output_type": "display_data"
    }
   ],
   "source": [
    "# Xtreme Gradient Boosting (XGBoost)\n",
    "from xgboost import XGBClassifier\n",
    "clf=XGBClassifier(max_depth=10, learning_rate=0.01, n_estimators=200, objective='binary:logistic', booster='gbtree')\n",
    "\n",
    "# Printing all the parameters of XGBoost\n",
    "print(clf)\n",
    "\n",
    "# Creating the model on Training Data\n",
    "XGB=clf.fit(X_train,y_train)\n",
    "prediction=XGB.predict(X_test)\n",
    "\n",
    "# Measuring accuracy on Testing Data\n",
    "from sklearn import metrics\n",
    "print(metrics.classification_report(y_test, prediction))\n",
    "print(metrics.confusion_matrix(y_test, prediction))\n",
    "\n",
    "# Printing the Overall Accuracy of the model\n",
    "F1_Score=metrics.f1_score(y_test, prediction, average='weighted')\n",
    "print('Accuracy of the model on Testing Sample Data:', round(F1_Score,2))\n",
    "\n",
    "# Importing cross validation function from sklearn\n",
    "from sklearn.model_selection import cross_val_score\n",
    "\n",
    "# Running 10-Fold Cross validation on a given algorithm\n",
    "# Passing full data X and y because the K-fold will split the data and automatically choose train/test\n",
    "Accuracy_Values=cross_val_score(XGB, X , y, cv=10, scoring='f1_weighted')\n",
    "print('\\nAccuracy values for 10-fold Cross Validation:\\n',Accuracy_Values)\n",
    "print('\\nFinal Average Accuracy of the model:', round(Accuracy_Values.mean(),2))\n",
    "\n",
    "# Plotting the feature importance for Top 10 most important columns\n",
    "%matplotlib inline\n",
    "feature_importances = pd.Series(XGB.feature_importances_, index=Predictors)\n",
    "feature_importances.nlargest(10).plot(kind='barh')"
   ]
  },
  {
   "cell_type": "markdown",
   "metadata": {
    "id": "PhFzbxq0w1ee"
   },
   "source": [
    "# SVM"
   ]
  },
  {
   "cell_type": "code",
   "execution_count": 41,
   "metadata": {
    "colab": {
     "base_uri": "https://localhost:8080/"
    },
    "id": "RNamThIuw14p",
    "outputId": "615cda93-4a85-4cad-94f3-a8c65c91b003"
   },
   "outputs": [
    {
     "name": "stdout",
     "output_type": "stream",
     "text": [
      "SVC(C=2, gamma=0.1)\n"
     ]
    },
    {
     "name": "stderr",
     "output_type": "stream",
     "text": [
      "C:\\Users\\PC\\Anaconda3\\lib\\site-packages\\sklearn\\metrics\\_classification.py:1221: UndefinedMetricWarning: Precision and F-score are ill-defined and being set to 0.0 in labels with no predicted samples. Use `zero_division` parameter to control this behavior.\n",
      "  _warn_prf(average, modifier, msg_start, len(result))\n",
      "C:\\Users\\PC\\Anaconda3\\lib\\site-packages\\sklearn\\metrics\\_classification.py:1221: UndefinedMetricWarning: Precision and F-score are ill-defined and being set to 0.0 in labels with no predicted samples. Use `zero_division` parameter to control this behavior.\n",
      "  _warn_prf(average, modifier, msg_start, len(result))\n",
      "C:\\Users\\PC\\Anaconda3\\lib\\site-packages\\sklearn\\metrics\\_classification.py:1221: UndefinedMetricWarning: Precision and F-score are ill-defined and being set to 0.0 in labels with no predicted samples. Use `zero_division` parameter to control this behavior.\n",
      "  _warn_prf(average, modifier, msg_start, len(result))\n"
     ]
    },
    {
     "name": "stdout",
     "output_type": "stream",
     "text": [
      "              precision    recall  f1-score   support\n",
      "\n",
      "           0       0.76      1.00      0.87       301\n",
      "           1       0.00      0.00      0.00        93\n",
      "\n",
      "    accuracy                           0.76       394\n",
      "   macro avg       0.38      0.50      0.43       394\n",
      "weighted avg       0.58      0.76      0.66       394\n",
      "\n",
      "[[301   0]\n",
      " [ 93   0]]\n",
      "Accuracy of the model on Testing Sample Data: 0.66\n",
      "\n",
      "Accuracy values for 10-fold Cross Validation:\n",
      " [0.65308255 0.66091669 0.66091669 0.66091669 0.66091669 0.66091669\n",
      " 0.66091669 0.66091669 0.66091669 0.66091669]\n",
      "\n",
      "Final Average Accuracy of the model: 0.66\n"
     ]
    }
   ],
   "source": [
    "# Support Vector Machines(SVM)\n",
    "from sklearn import svm\n",
    "clf = svm.SVC(C=2, kernel='rbf', gamma=0.1)\n",
    "\n",
    "# Printing all the parameters of KNN\n",
    "print(clf)\n",
    "\n",
    "# Creating the model on Training Data\n",
    "SVM=clf.fit(X_train,y_train)\n",
    "prediction=SVM.predict(X_test)\n",
    "\n",
    "# Measuring accuracy on Testing Data\n",
    "from sklearn import metrics\n",
    "print(metrics.classification_report(y_test, prediction))\n",
    "print(metrics.confusion_matrix(y_test, prediction))\n",
    "\n",
    "# Printing the Overall Accuracy of the model\n",
    "F1_Score=metrics.f1_score(y_test, prediction, average='weighted')\n",
    "print('Accuracy of the model on Testing Sample Data:', round(F1_Score,2))\n",
    "\n",
    "# Importing cross validation function from sklearn\n",
    "from sklearn.model_selection import cross_val_score\n",
    "\n",
    "# Running 10-Fold Cross validation on a given algorithm\n",
    "# Passing full data X and y because the K-fold will split the data and automatically choose train/test\n",
    "Accuracy_Values=cross_val_score(SVM, X , y, cv=10, scoring='f1_weighted')\n",
    "print('\\nAccuracy values for 10-fold Cross Validation:\\n',Accuracy_Values)\n",
    "print('\\nFinal Average Accuracy of the model:', round(Accuracy_Values.mean(),2))\n",
    "\n",
    "\n",
    "# Plotting the feature importance for Top 10 most important columns\n",
    "# The built in attribute SVM.coef_ works only for linear kernel\n",
    "%matplotlib inline\n",
    "#feature_importances = pd.Series(SVM.coef_[0], index=Predictors)\n",
    "#feature_importances.nlargest(10).plot(kind='barh')"
   ]
  },
  {
   "cell_type": "markdown",
   "metadata": {
    "id": "DnqImt0-xhMT"
   },
   "source": [
    "# Deployment of the *Model*\n",
    "\n",
    "Based on the above trials you select that algorithm which produces the best average accuracy. In this case, multiple algorithms have produced similar kind of average accuracy. Hence, we can choose any one of them.\n",
    "\n",
    "I am choosing Random Forest as the final model since it is very fast on this high dimensional data.\n",
    "\n",
    "In order to deploy the model we follow below steps\n",
    "\n",
    "Train the model using 100% data available\n",
    "Save the model as a serialized file which can be stored anywhere\n",
    "Create a python function which gets integrated with front-end(Tableau/Java Website etc.) to take all the inputs and returns the prediction"
   ]
  },
  {
   "cell_type": "markdown",
   "metadata": {
    "id": "QF8lNGMVxh9V"
   },
   "source": [
    "# Choosing only the most important variables¶\n",
    "Its beneficial to keep lesser number of predictors for the model while deploying it in production. The lesser predictors you keep, the better because, the model will be less dependent hence, more stable.\n",
    "\n",
    "This is important specially when the data is high dimensional(too many predictor columns).\n",
    "\n",
    "In this data, the most important predictor variables are 'X19','X9', 'X15','X16','X13' and 'X6'. As these are consistently on top of the variable importance chart for every algorithm. Hence choosing these as final set of predictor variables."
   ]
  },
  {
   "cell_type": "code",
   "execution_count": 42,
   "metadata": {
    "colab": {
     "base_uri": "https://localhost:8080/"
    },
    "id": "Fsr5rZTnzwEK",
    "outputId": "6be32a03-5f78-4a0f-9a72-e4efc02cb26a"
   },
   "outputs": [
    {
     "name": "stdout",
     "output_type": "stream",
     "text": [
      "(1311, 6)\n",
      "(1311,)\n"
     ]
    }
   ],
   "source": [
    "# Separate Target Variable and Predictor Variables\n",
    "TargetVariable='Target'\n",
    "\n",
    "# Selecting the final set of predictors for the deployment\n",
    "# Based on the variable importance charts of multiple algorithms above\n",
    "Predictors=['X19','X9', 'X15','X16','X13' , 'X6']\n",
    "\n",
    "X=DataForML[Predictors].values\n",
    "y=DataForML[TargetVariable].values\n",
    "\n",
    "print(X.shape)\n",
    "print(y.shape)"
   ]
  },
  {
   "cell_type": "markdown",
   "metadata": {
    "id": "KF8RovXo0bdY"
   },
   "source": [
    "## Step 1. Retraining the model using 100% data\n"
   ]
  },
  {
   "cell_type": "code",
   "execution_count": 43,
   "metadata": {
    "colab": {
     "base_uri": "https://localhost:8080/"
    },
    "id": "C3H_asBWzwNi",
    "outputId": "d4599393-5899-4748-8e05-4cedae4d4c9c"
   },
   "outputs": [
    {
     "name": "stdout",
     "output_type": "stream",
     "text": [
      "\n",
      "Accuracy values for 10-fold Cross Validation:\n",
      " [0.86320809 0.81470448 0.78886272 0.85170286 0.78426214 0.84818447\n",
      " 0.87093288 0.85265498 0.89425987 0.74127241]\n",
      "\n",
      "Final Average Accuracy of the model: 0.83\n"
     ]
    }
   ],
   "source": [
    "# Random Forest (Bagging of multiple Decision Trees)\n",
    "from sklearn.ensemble import RandomForestClassifier\n",
    "# Choose various values of max_depth, n_estimators and criterion for tuning the model\n",
    "clf = RandomForestClassifier(max_depth=10, n_estimators=100,criterion='gini')\n",
    "\n",
    "# Training the model on 100% Data available\n",
    "RF=clf.fit(X,y)\n",
    "\n",
    "# Importing cross validation function from sklearn\n",
    "from sklearn.model_selection import cross_val_score\n",
    "\n",
    "# Running 10-Fold Cross validation on a given algorithm\n",
    "# Passing full data X and y because the K-fold will split the data and automatically choose train/test\n",
    "Accuracy_Values=cross_val_score(RF, X , y, cv=10, scoring='f1_weighted')\n",
    "print('\\nAccuracy values for 10-fold Cross Validation:\\n',Accuracy_Values)\n",
    "print('\\nFinal Average Accuracy of the model:', round(Accuracy_Values.mean(),2))"
   ]
  },
  {
   "cell_type": "markdown",
   "metadata": {
    "id": "HT5aoszl3Z-u"
   },
   "source": [
    "##Step 2. Save the model as a serialized file which can be stored anywhere"
   ]
  },
  {
   "cell_type": "code",
   "execution_count": 44,
   "metadata": {
    "colab": {
     "base_uri": "https://localhost:8080/"
    },
    "id": "2_1uzcsQ3cX4",
    "outputId": "4e895283-3160-46df-978f-1b471e845da9"
   },
   "outputs": [
    {
     "name": "stdout",
     "output_type": "stream",
     "text": [
      "pickle file of Predictive Model is saved at Location: C:\\Users\\PC\\My_App\n"
     ]
    }
   ],
   "source": [
    "import pickle\n",
    "import os\n",
    "\n",
    "# Saving the Python objects as serialized files can be done using pickle library\n",
    "# Here let us save the Final ZomatoRatingModel\n",
    "with open('RF.pkl', 'wb') as fileWriteStream:\n",
    "    pickle.dump(RF, fileWriteStream)\n",
    "    # Don't forget to close the filestream!\n",
    "    fileWriteStream.close()\n",
    "    \n",
    "print('pickle file of Predictive Model is saved at Location:',os.getcwd())"
   ]
  },
  {
   "cell_type": "code",
   "execution_count": 50,
   "metadata": {},
   "outputs": [
    {
     "name": "stdout",
     "output_type": "stream",
     "text": [
      "Requirement already satisfied: gunicorn in c:\\users\\pc\\anaconda3\\lib\\site-packages (20.1.0)\n",
      "Requirement already satisfied: setuptools>=3.0 in c:\\users\\pc\\anaconda3\\lib\\site-packages (from gunicorn) (40.6.3)\n"
     ]
    }
   ],
   "source": [
    "!pip install gunicorn"
   ]
  },
  {
   "cell_type": "markdown",
   "metadata": {
    "id": "xwk8lAWG5d2d"
   },
   "source": [
    "# Deploying a predictive model as an API\n",
    "Django and flask are two popular ways to deploy predictive models as a web service\n",
    "You can call your predictive models using a URL from any front end like tableau, java or angular js.\n"
   ]
  },
  {
   "cell_type": "code",
   "execution_count": null,
   "metadata": {
    "id": "74m4PFSU5xwu"
   },
   "outputs": [],
   "source": [
    "#import os\n",
    "#os.mkdir('templates')\n",
    "#os.mkdir('static')"
   ]
  },
  {
   "cell_type": "code",
   "execution_count": 45,
   "metadata": {
    "id": "pD6qldRw5fb8"
   },
   "outputs": [],
   "source": [
    "index = '''\n",
    "<!DOCTYPE html>\n",
    "<html >\n",
    "<head>\n",
    "  <meta charset=\"UTF-8\">\n",
    "  <title>ML Deployment</title>\n",
    "  <link href='https://fonts.googleapis.com/css?family=Pacifico' rel='stylesheet' type='text/css'>\n",
    "<link href='https://fonts.googleapis.com/css?family=Arimo' rel='stylesheet' type='text/css'>\n",
    "<link href='https://fonts.googleapis.com/css?family=Hind:300' rel='stylesheet' type='text/css'>\n",
    "<link href='https://fonts.googleapis.com/css?family=Open+Sans+Condensed:300' rel='stylesheet' type='text/css'>\n",
    "<link rel=\"stylesheet\" href=\"{{ url_for('static', filename='style.css') }}\">\n",
    "  \n",
    "</head>\n",
    "<body>\n",
    " <div class=\"login\">\n",
    "\t<h1>Predict Target Class</h1>\n",
    "\n",
    "     <!-- Main Input For Receiving Query to our ML -->\n",
    "    <form action=\"{{ url_for('predict')}}\"method=\"post\">\n",
    "    \t\n",
    "    \t<input type=\"text\" name=\"X19\" placeholder=\"first variable\" required=\"required\" />\n",
    "        <input type=\"text\" name=\"X9\" placeholder=\"second variable\" required=\"required\" />\n",
    "\t\t<input type=\"text\" name=\"X15\" placeholder=\"third variable\" required=\"required\" />\n",
    "\t\t<input type=\"text\" name=\"X16\" placeholder=\"fourth variable\" required=\"required\" />\n",
    "    <input type=\"text\" name=\"X13\" placeholder=\"fifth variable\"  />\n",
    "    <input type=\"text\" name=\"X6\" placeholder=\"sixth variable\"  />\n",
    "\n",
    "        <button type=\"submit\" class=\"btn btn-primary btn-block btn-large\">Predict</button>\n",
    "    </form>\n",
    "   <br>\n",
    "   <table>\n",
    "   <tr>\n",
    "        <th>Model</th>\n",
    "        <th> accuracy</th>\n",
    "        <th>f1_score</th>\n",
    "        <th>precision</th>\n",
    "        <th>recall</th>\n",
    "    </tr>\n",
    "\n",
    "       {% for key, value in results.items() %}        \n",
    "        <tr>\n",
    "        <td>{{key}}</td>\n",
    "        <td>{{value['accuracy']}}</td>\n",
    "        <td>{{value['f1-score']}}</td>\n",
    "        <td>{{value['precision']}}</td>\n",
    "        <td>{{value['recall']}}</td>\n",
    "        \n",
    "          </tr>\n",
    "      {% endfor %} \n",
    "      </table>\n",
    "   <br>\n",
    "\n",
    "   <br>\n",
    " </div>\n",
    "</body>\n",
    "</html>\n",
    "'''\n",
    "file = open(\"templates/index.html\",\"w\")\n",
    "file.write(index)\n",
    "file.close()"
   ]
  },
  {
   "cell_type": "code",
   "execution_count": 46,
   "metadata": {
    "id": "4ERIsb6-5fhl"
   },
   "outputs": [],
   "source": [
    "style = '''\n",
    "@import url(https://fonts.googleapis.com/css?family=Open+Sans);\n",
    ".btn { display: inline-block; *display: inline; *zoom: 1; padding: 4px 10px 4px; margin-bottom: 0; font-size: 13px; line-height: 18px; color: #333333; text-align: center;text-shadow: 0 1px 1px rgba(255, 255, 255, 0.75); vertical-align: middle; background-color: #f5f5f5; background-image: -moz-linear-gradient(top, #ffffff, #e6e6e6); background-image: -ms-linear-gradient(top, #ffffff, #e6e6e6); background-image: -webkit-gradient(linear, 0 0, 0 100%, from(#ffffff), to(#e6e6e6)); background-image: -webkit-linear-gradient(top, #ffffff, #e6e6e6); background-image: -o-linear-gradient(top, #ffffff, #e6e6e6); background-image: linear-gradient(top, #ffffff, #e6e6e6); background-repeat: repeat-x; filter: progid:dximagetransform.microsoft.gradient(startColorstr=#ffffff, endColorstr=#e6e6e6, GradientType=0); border-color: #e6e6e6 #e6e6e6 #e6e6e6; border-color: rgba(0, 0, 0, 0.1) rgba(0, 0, 0, 0.1) rgba(0, 0, 0, 0.25); border: 1px solid #e6e6e6; -webkit-border-radius: 4px; -moz-border-radius: 4px; border-radius: 4px; -webkit-box-shadow: inset 0 1px 0 rgba(255, 255, 255, 0.2), 0 1px 2px rgba(0, 0, 0, 0.05); -moz-box-shadow: inset 0 1px 0 rgba(255, 255, 255, 0.2), 0 1px 2px rgba(0, 0, 0, 0.05); box-shadow: inset 0 1px 0 rgba(255, 255, 255, 0.2), 0 1px 2px rgba(0, 0, 0, 0.05); cursor: pointer; *margin-left: .3em; }\n",
    ".btn:hover, .btn:active, .btn.active, .btn.disabled, .btn[disabled] { background-color: #e6e6e6; }\n",
    ".btn-large { padding: 9px 14px; font-size: 15px; line-height: normal; -webkit-border-radius: 5px; -moz-border-radius: 5px; border-radius: 5px; }\n",
    ".btn:hover { color: #333333; text-decoration: none; background-color: #e6e6e6; background-position: 0 -15px; -webkit-transition: background-position 0.1s linear; -moz-transition: background-position 0.1s linear; -ms-transition: background-position 0.1s linear; -o-transition: background-position 0.1s linear; transition: background-position 0.1s linear; }\n",
    ".btn-primary, .btn-primary:hover { text-shadow: 0 -1px 0 rgba(0, 0, 0, 0.25); color: #ffffff; }\n",
    ".btn-primary.active { color: rgba(255, 255, 255, 0.75); }\n",
    ".btn-primary { background-color: #4a77d4; background-image: -moz-linear-gradient(top, #6eb6de, #4a77d4); background-image: -ms-linear-gradient(top, #6eb6de, #4a77d4); background-image: -webkit-gradient(linear, 0 0, 0 100%, from(#6eb6de), to(#4a77d4)); background-image: -webkit-linear-gradient(top, #6eb6de, #4a77d4); background-image: -o-linear-gradient(top, #6eb6de, #4a77d4); background-image: linear-gradient(top, #6eb6de, #4a77d4); background-repeat: repeat-x; filter: progid:dximagetransform.microsoft.gradient(startColorstr=#6eb6de, endColorstr=#4a77d4, GradientType=0);  border: 1px solid #3762bc; text-shadow: 1px 1px 1px rgba(0,0,0,0.4); box-shadow: inset 0 1px 0 rgba(255, 255, 255, 0.2), 0 1px 2px rgba(0, 0, 0, 0.5); }\n",
    ".btn-primary:hover, .btn-primary:active, .btn-primary.active, .btn-primary.disabled, .btn-primary[disabled] { filter: none; background-color: #4a77d4; }\n",
    ".btn-block { width: 100%; display:block; }\n",
    "\n",
    "* { -webkit-box-sizing:border-box; -moz-box-sizing:border-box; -ms-box-sizing:border-box; -o-box-sizing:border-box; box-sizing:border-box; }\n",
    "body { \n",
    "\twidth: 100%;\n",
    "\tfont-family: 'Open Sans', sans-serif;\n",
    "\tbackground: #092756;\n",
    "\tcolor: #fff;\n",
    "\tfont-size: 18px;\n",
    "\ttext-align:center;\n",
    "\tletter-spacing:1.2px;\n",
    "\tbackground: -moz-radial-gradient(0% 100%, ellipse cover, rgba(104,128,138,.4) 10%,rgba(138,114,76,0) 40%),-moz-linear-gradient(top,  rgba(57,173,219,.25) 0%, rgba(42,60,87,.4) 100%), -moz-linear-gradient(-45deg,  #670d10 0%, #092756 100%);\n",
    "\tbackground: -webkit-radial-gradient(0% 100%, ellipse cover, rgba(104,128,138,.4) 10%,rgba(138,114,76,0) 40%), -webkit-linear-gradient(top,  rgba(57,173,219,.25) 0%,rgba(42,60,87,.4) 100%), -webkit-linear-gradient(-45deg,  #670d10 0%,#092756 100%);\n",
    "\tbackground: -o-radial-gradient(0% 100%, ellipse cover, rgba(104,128,138,.4) 10%,rgba(138,114,76,0) 40%), -o-linear-gradient(top,  rgba(57,173,219,.25) 0%,rgba(42,60,87,.4) 100%), -o-linear-gradient(-45deg,  #670d10 0%,#092756 100%);\n",
    "\tbackground: -ms-radial-gradient(0% 100%, ellipse cover, rgba(104,128,138,.4) 10%,rgba(138,114,76,0) 40%), -ms-linear-gradient(top,  rgba(57,173,219,.25) 0%,rgba(42,60,87,.4) 100%), -ms-linear-gradient(-45deg,  #670d10 0%,#092756 100%);\n",
    "\tbackground: -webkit-radial-gradient(0% 100%, ellipse cover, rgba(104,128,138,.4) 10%,rgba(138,114,76,0) 40%), linear-gradient(to bottom,  rgba(57,173,219,.25) 0%,rgba(42,60,87,.4) 100%), linear-gradient(135deg,  #670d10 0%,#092756 100%);\n",
    "\n",
    "}\n",
    ".login { \n",
    "\tposition: absolute;\n",
    "\ttop: 40%;\n",
    "\tleft: 50%;\n",
    "\tmargin: -150px 0 0 -150px;\n",
    "\twidth:400px;\n",
    "\theight:400px;\n",
    "}\n",
    "\n",
    ".login h1 { color: #fff; text-shadow: 0 0 10px rgba(0,0,0,0.3); letter-spacing:1px; text-align:center; }\n",
    "\n",
    "input { \n",
    "\twidth: 100%; \n",
    "\tmargin-bottom: 10px; \n",
    "\tbackground: rgba(0,0,0,0.3);\n",
    "\tborder: none;\n",
    "\toutline: none;\n",
    "\tpadding: 10px;\n",
    "\tfont-size: 13px;\n",
    "\tcolor: #fff;\n",
    "\ttext-shadow: 1px 1px 1px rgba(0,0,0,0.3);\n",
    "\tborder: 1px solid rgba(0,0,0,0.3);\n",
    "\tborder-radius: 4px;\n",
    "\tbox-shadow: inset 0 -5px 45px rgba(100,100,100,0.2), 0 1px 1px rgba(255,255,255,0.2);\n",
    "\t-webkit-transition: box-shadow .5s ease;\n",
    "\t-moz-transition: box-shadow .5s ease;\n",
    "\t-o-transition: box-shadow .5s ease;\n",
    "\t-ms-transition: box-shadow .5s ease;\n",
    "\ttransition: box-shadow .5s ease;\n",
    "}\n",
    "input:focus { box-shadow: inset 0 -5px 45px rgba(100,100,100,0.4), 0 1px 1px rgba(255,255,255,0.2); }\n",
    "\n",
    "'''\n",
    "file = open(\"static/style.css\",\"w\")\n",
    "file.write(style)\n",
    "file.close()"
   ]
  },
  {
   "cell_type": "code",
   "execution_count": 47,
   "metadata": {
    "colab": {
     "base_uri": "https://localhost:8080/"
    },
    "id": "ItLnGAic3dH_",
    "outputId": "0d25195e-f9d1-49e1-8466-48cd869fc9f2"
   },
   "outputs": [
    {
     "name": "stdout",
     "output_type": "stream",
     "text": [
      "Requirement already satisfied: flask in c:\\users\\pc\\anaconda3\\lib\\site-packages (1.0.2)\n",
      "Requirement already satisfied: click>=5.1 in c:\\users\\pc\\anaconda3\\lib\\site-packages (from flask) (7.0)\n",
      "Requirement already satisfied: Jinja2>=2.10 in c:\\users\\pc\\anaconda3\\lib\\site-packages (from flask) (2.10)\n",
      "Requirement already satisfied: itsdangerous>=0.24 in c:\\users\\pc\\anaconda3\\lib\\site-packages (from flask) (1.1.0)\n",
      "Requirement already satisfied: Werkzeug>=0.14 in c:\\users\\pc\\anaconda3\\lib\\site-packages (from flask) (0.14.1)\n",
      "Requirement already satisfied: MarkupSafe>=0.23 in c:\\users\\pc\\anaconda3\\lib\\site-packages (from Jinja2>=2.10->flask) (1.1.0)\n"
     ]
    }
   ],
   "source": [
    "!pip install flask\n"
   ]
  },
  {
   "cell_type": "code",
   "execution_count": 49,
   "metadata": {
    "colab": {
     "base_uri": "https://localhost:8080/"
    },
    "id": "0RbfB9FO6PUh",
    "outputId": "73b40c75-4488-495f-fa82-6c1012240efe"
   },
   "outputs": [
    {
     "name": "stdout",
     "output_type": "stream",
     "text": [
      " * Serving Flask app \"__main__\" (lazy loading)\n",
      " * Environment: production\n",
      "   WARNING: Do not use the development server in a production environment.\n",
      "   Use a production WSGI server instead.\n",
      " * Debug mode: off\n"
     ]
    },
    {
     "name": "stderr",
     "output_type": "stream",
     "text": [
      " * Running on http://127.0.0.1:5000/ (Press CTRL+C to quit)\n",
      "127.0.0.1 - - [25/Apr/2021 23:23:36] \"GET / HTTP/1.1\" 200 -\n",
      "[2021-04-25 23:23:47,450] ERROR in app: Exception on /predict [POST]\n",
      "Traceback (most recent call last):\n",
      "  File \"C:\\Users\\PC\\Anaconda3\\lib\\site-packages\\flask\\app.py\", line 2292, in wsgi_app\n",
      "    response = self.full_dispatch_request()\n",
      "  File \"C:\\Users\\PC\\Anaconda3\\lib\\site-packages\\flask\\app.py\", line 1815, in full_dispatch_request\n",
      "    rv = self.handle_user_exception(e)\n",
      "  File \"C:\\Users\\PC\\Anaconda3\\lib\\site-packages\\flask\\app.py\", line 1718, in handle_user_exception\n",
      "    reraise(exc_type, exc_value, tb)\n",
      "  File \"C:\\Users\\PC\\Anaconda3\\lib\\site-packages\\flask\\_compat.py\", line 35, in reraise\n",
      "    raise value\n",
      "  File \"C:\\Users\\PC\\Anaconda3\\lib\\site-packages\\flask\\app.py\", line 1813, in full_dispatch_request\n",
      "    rv = self.dispatch_request()\n",
      "  File \"C:\\Users\\PC\\Anaconda3\\lib\\site-packages\\flask\\app.py\", line 1799, in dispatch_request\n",
      "    return self.view_functions[rule.endpoint](**req.view_args)\n",
      "  File \"<ipython-input-49-6f9b007170dc>\", line 32, in predict\n",
      "    X=DataForML[Predictors].values\n",
      "  File \"C:\\Users\\PC\\Anaconda3\\lib\\site-packages\\pandas\\core\\frame.py\", line 2682, in __getitem__\n",
      "    return self._getitem_array(key)\n",
      "  File \"C:\\Users\\PC\\Anaconda3\\lib\\site-packages\\pandas\\core\\frame.py\", line 2726, in _getitem_array\n",
      "    indexer = self.loc._convert_to_indexer(key, axis=1)\n",
      "  File \"C:\\Users\\PC\\Anaconda3\\lib\\site-packages\\pandas\\core\\indexing.py\", line 1327, in _convert_to_indexer\n",
      "    .format(mask=objarr[mask]))\n",
      "KeyError: \"['0.83' '3' '12369' '963258' '8161' '2'] not in index\"\n",
      "127.0.0.1 - - [25/Apr/2021 23:23:47] \"POST /predict HTTP/1.1\" 500 -\n",
      "C:\\Users\\PC\\Anaconda3\\lib\\site-packages\\sklearn\\utils\\optimize.py:204: UserWarning: Line Search failed\n",
      "  warnings.warn('Line Search failed')\n"
     ]
    },
    {
     "name": "stdout",
     "output_type": "stream",
     "text": [
      "SVC(C=2, gamma=0.1)\n"
     ]
    },
    {
     "name": "stderr",
     "output_type": "stream",
     "text": [
      "127.0.0.1 - - [25/Apr/2021 23:27:51] \"POST /predict HTTP/1.1\" 200 -\n"
     ]
    },
    {
     "name": "stdout",
     "output_type": "stream",
     "text": [
      "r {'decision tree': {'precision': 0.41, 'recall': 0.14, 'f1-score': 0.21, 'accuracy': 0.75}, 'logistic regression': {'precision': 0.33, 'recall': 0.1, 'f1-score': 0.15, 'accuracy': 0.74}, 'random forest': {'precision': 0.33, 'recall': 0.1, 'f1-score': 0.15, 'accuracy': 0.74}, 'SVM': {'precision': 0.38, 'recall': 0.1, 'f1-score': 0.15, 'accuracy': 0.75}}\n"
     ]
    },
    {
     "name": "stderr",
     "output_type": "stream",
     "text": [
      "C:\\Users\\PC\\Anaconda3\\lib\\site-packages\\sklearn\\utils\\optimize.py:204: UserWarning: Line Search failed\n",
      "  warnings.warn('Line Search failed')\n"
     ]
    },
    {
     "name": "stdout",
     "output_type": "stream",
     "text": [
      "SVC(C=2, gamma=0.1)\n"
     ]
    },
    {
     "name": "stderr",
     "output_type": "stream",
     "text": [
      "127.0.0.1 - - [25/Apr/2021 23:27:53] \"POST /predict HTTP/1.1\" 200 -\n"
     ]
    },
    {
     "name": "stdout",
     "output_type": "stream",
     "text": [
      "r {'decision tree': {'precision': 0.41, 'recall': 0.14, 'f1-score': 0.21, 'accuracy': 0.75}, 'logistic regression': {'precision': 0.33, 'recall': 0.1, 'f1-score': 0.15, 'accuracy': 0.74}, 'random forest': {'precision': 0.33, 'recall': 0.1, 'f1-score': 0.15, 'accuracy': 0.74}, 'SVM': {'precision': 0.38, 'recall': 0.1, 'f1-score': 0.15, 'accuracy': 0.75}}\n"
     ]
    }
   ],
   "source": [
    "# importing necessary libraries and functions\n",
    "import numpy as np\n",
    "from flask import Flask, request, jsonify, render_template\n",
    "import pickle\n",
    "import json\n",
    "\n",
    "\n",
    "\n",
    "app = Flask(__name__)\n",
    "\n",
    "\n",
    "model = pickle.load(open('RF.pkl', 'rb')) # loading the trained model\n",
    "\n",
    "@app.route('/') # Homepage\n",
    "def home():\n",
    "    return render_template('index.html', results={})\n",
    "\n",
    "@app.route('/predict',methods=['POST'])\n",
    "def predict():\n",
    "    '''\n",
    "    For rendering results on HTML GUI\n",
    "    '''\n",
    "    \n",
    "    # retrieving values from form\n",
    "    Predictors= [x for x in request.form.values()]\n",
    "    TargetVariable='Target'\n",
    "    f = set([ 'X' + str(i) for i in range(1,20)])\n",
    "    if ( not f):\n",
    "        \n",
    "        return render_template('index.html', prediction_text='error in choice: {}') # rendering the predicted result\n",
    "\n",
    "    X=DataForML[Predictors].values\n",
    "    y=DataForML[TargetVariable].values\n",
    "\n",
    "    X_train, X_test, y_train, y_test = train_test_split(X, y, test_size=0.3, random_state=428)\n",
    "    #prediction = model.predict(final_features) # making prediction\n",
    "\n",
    "# Adaboost \n",
    "\n",
    "    # Choosing Decision Tree with 1 level as the weak learner\n",
    "    # Choose different values of max_depth, n_estimators and learning_rate to tune the model\n",
    "    DTC=DecisionTreeClassifier(max_depth=4)\n",
    "    clf = AdaBoostClassifier(n_estimators=200, base_estimator=DTC ,learning_rate=0.01)\n",
    "\n",
    "    # Printing all the parameters of Adaboost\n",
    "\n",
    "    # Creating the model on Training Data\n",
    "    AB=clf.fit(X_train,y_train)\n",
    "    prediction=AB.predict(X_test)\n",
    "\n",
    "    # Measuring accuracy on Testing Data\n",
    "    from sklearn import metrics\n",
    "    tree_metrics = metrics.classification_report(y_test, prediction,output_dict=True)['1']\n",
    "    tree_metrics.pop('support',None)\n",
    "    tree_metrics['accuracy'] = metrics.accuracy_score(y_test, prediction)\n",
    "    for item in tree_metrics:\n",
    "        tree_metrics[item] = round(tree_metrics[item], 2)\n",
    "    r = {}\n",
    "    r['decision tree'] = tree_metrics\n",
    "\n",
    "\n",
    "    from sklearn.linear_model import LogisticRegression\n",
    "    # choose parameter Penalty='l1' or C=1\n",
    "    # choose different values for solver 'newton-cg', 'lbfgs', 'liblinear', 'sag', 'saga'\n",
    "    clf = LogisticRegression(C=1,penalty='l2', solver='newton-cg')\n",
    "\n",
    "    # Printing all the parameters of logistic regression\n",
    "    # print(clf)\n",
    "\n",
    "    # Creating the model on Training Data\n",
    "    LOG=clf.fit(X_train,y_train)\n",
    "    prediction=LOG.predict(X_test)\n",
    "\n",
    "    # Measuring accuracy on Testing Data\n",
    "\n",
    "    logistic_metrics = metrics.classification_report(y_test, prediction,output_dict=True)['1']\n",
    "    logistic_metrics.pop('support',None)\n",
    "    logistic_metrics['accuracy'] = metrics.accuracy_score(y_test, prediction)\n",
    "    for item in logistic_metrics:\n",
    "        logistic_metrics[item] = round(logistic_metrics[item], 2)\n",
    "    r['logistic regression'] = logistic_metrics\n",
    "\n",
    "\n",
    "    from sklearn.ensemble import RandomForestClassifier\n",
    "    # Choose various values of max_depth, n_estimators and criterion for tuning the model\n",
    "    clf = RandomForestClassifier(max_depth=10, n_estimators=100,criterion='gini')\n",
    "\n",
    "\n",
    "    forest_metrics = metrics.classification_report(y_test, prediction,output_dict=True)['1']\n",
    "    forest_metrics.pop('support',None)\n",
    "    forest_metrics['accuracy'] = metrics.accuracy_score(y_test, prediction)\n",
    "    for item in forest_metrics:\n",
    "        forest_metrics[item] = round(forest_metrics[item], 2)\n",
    "    r['random forest'] = forest_metrics\n",
    "\n",
    "\n",
    "# Printing all the parameters of Random Forest\n",
    "    from sklearn import svm\n",
    "    clf = svm.SVC(C=2, kernel='rbf', gamma=0.1)\n",
    "\n",
    "    # Printing all the parameters of KNN\n",
    "    print(clf)\n",
    "\n",
    "    # Creating the model on Training Data\n",
    "    SVM=clf.fit(X_train,y_train)\n",
    "    prediction=SVM.predict(X_test)\n",
    "\n",
    "    svm_metrics = metrics.classification_report(y_test, prediction,output_dict=True)['1']\n",
    "    svm_metrics.pop('support',None)\n",
    "    svm_metrics['accuracy'] = metrics.accuracy_score(y_test, prediction)\n",
    "    for item in svm_metrics:\n",
    "        \n",
    "        svm_metrics[item] = round(svm_metrics[item], 2)\n",
    "    r['SVM'] = svm_metrics\n",
    "\n",
    "    # Plotting the feature importance for Top 10 most important columns\n",
    "    print('r',r)\n",
    "    r = json.dumps(r)\n",
    "    r = json.loads(r)\n",
    "\n",
    "\n",
    "\n",
    "\n",
    "\n",
    "\n",
    "    return render_template('index.html', results=r) # rendering the predicted result\n",
    "\n",
    "if __name__ == \"__main__\":\n",
    "    app.run()"
   ]
  },
  {
   "cell_type": "code",
   "execution_count": null,
   "metadata": {
    "id": "Bm9KK3Jw6Pa-"
   },
   "outputs": [],
   "source": []
  },
  {
   "cell_type": "code",
   "execution_count": null,
   "metadata": {
    "colab": {
     "base_uri": "https://localhost:8080/",
     "height": 163
    },
    "id": "2XJlJCNp6PhF",
    "outputId": "422b1c54-d45c-42c9-d30d-bd3a83779e99"
   },
   "outputs": [
    {
     "ename": "NameError",
     "evalue": "ignored",
     "output_type": "error",
     "traceback": [
      "\u001b[0;31m---------------------------------------------------------------------------\u001b[0m",
      "\u001b[0;31mNameError\u001b[0m                                 Traceback (most recent call last)",
      "\u001b[0;32m<ipython-input-49-3f786850e387>\u001b[0m in \u001b[0;36m<module>\u001b[0;34m()\u001b[0m\n\u001b[0;32m----> 1\u001b[0;31m \u001b[0ma\u001b[0m\u001b[0;34m\u001b[0m\u001b[0;34m\u001b[0m\u001b[0m\n\u001b[0m",
      "\u001b[0;31mNameError\u001b[0m: name 'a' is not defined"
     ]
    }
   ],
   "source": []
  },
  {
   "cell_type": "code",
   "execution_count": null,
   "metadata": {
    "id": "yqTNu26T6Pnl"
   },
   "outputs": [],
   "source": []
  }
 ],
 "metadata": {
  "colab": {
   "collapsed_sections": [
    "gzaib8C9wyAr"
   ],
   "name": "test_Biat.ipynb",
   "provenance": []
  },
  "kernelspec": {
   "display_name": "Python 3",
   "language": "python",
   "name": "python3"
  },
  "language_info": {
   "codemirror_mode": {
    "name": "ipython",
    "version": 3
   },
   "file_extension": ".py",
   "mimetype": "text/x-python",
   "name": "python",
   "nbconvert_exporter": "python",
   "pygments_lexer": "ipython3",
   "version": "3.7.1"
  }
 },
 "nbformat": 4,
 "nbformat_minor": 1
}
